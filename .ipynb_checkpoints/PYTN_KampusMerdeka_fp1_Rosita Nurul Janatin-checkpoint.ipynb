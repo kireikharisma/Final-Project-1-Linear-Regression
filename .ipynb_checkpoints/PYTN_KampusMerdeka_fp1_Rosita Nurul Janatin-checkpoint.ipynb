{
 "cells": [
  {
   "attachments": {
    "hacktiv8-dark.webp": {
     "image/webp": "[encoded data removed]"
    }
   },
   "cell_type": "markdown",
   "id": "85663f3e",
   "metadata": {},
   "source": [
    "![hacktiv8-dark.webp](attachment:hacktiv8-dark.webp)"
   ]
  },
  {
   "cell_type": "markdown",
   "id": "d6bbcb5e",
   "metadata": {},
   "source": [
    "# FINAL PROJECT 1: LINEAR REGRESSION"
   ]
  },
  {
   "cell_type": "markdown",
   "id": "73dd3c40",
   "metadata": {},
   "source": [
    "Project ini disusun guna memenuhi tugas studi independen program **Python for Data Science**"
   ]
  },
  {
   "cell_type": "markdown",
   "id": "a5591508",
   "metadata": {},
   "source": [
    "## Introduction"
   ]
  },
  {
   "cell_type": "markdown",
   "id": "62a23cde",
   "metadata": {},
   "source": [
    "### Our Teams:\n",
    "1. Haikal Efendi - PYTN-KS08-001\n",
    "2. Ni Made Kirei Kharisma Handayani - PYTN-KS08-002\n",
    "3. Rosita Nurul Janatin - PYTN-KS08-005"
   ]
  },
  {
   "cell_type": "markdown",
   "id": "9d67a7f1",
   "metadata": {},
   "source": [
    "### Latar Belakang\n",
    "Uber dan Lyft adalah layanan ride-hailing yang memungkinkan pengguna menyewa kendaraan dengan pengemudi melalui situs web atau aplikasi seluler. uber adalah perusahaan global yang tersedia di 69 negara dan 900 kota di seluruh dunia. sedangkan lyft telah beroperasi di sekitar 644 kota di AS dan 12 kota di Kanada saja. Namun, di AS, uber dan lyft merupakan perusahaan ridesharing terbesar kedua dengan pangsa pasar 31%.\n",
    "\n",
    "kedua layanan ini memiliki fitur inti yang hampir mirip dari memesan taksi hingga membayar tagihan. tetapi ada beberapa kasus unik dimana kedua layanan ride-hailing ini setara. salah satunya adalah penetapan harga dinamis yang disebut \"surge\" (lonjakan) di uber dan \"prime time\" di lyft.\n",
    "\n",
    "Oleh karena itu, diperlukan suatu analisis untuk memprediksi harga perjalanan (price) yang paling tepat dengan menggunakan algoritma Regresi Linier (Linear Regression). pemilihan algoritma regresi linier dalam project ini memanfaatkan data dari waktu sebelumnya. Regresi linier mencoba memodelkan hubungan antara variabel dependen dan variabel independen dengan membuat persamaan linier untuk mengamati data."
   ]
  },
  {
   "cell_type": "markdown",
   "id": "999cb96f",
   "metadata": {},
   "source": [
    "### Data\n",
    "Dataset yang digunakan adalah Uber and Lyft Dataset Boston, MA yang dapat diakses di kaggle.com. dataset ini memiliki 57 atribut, tetapi atribut yang digunakan hanya yang memiliki kepentingan terhadap targetnya (price) saja."
   ]
  },
  {
   "cell_type": "markdown",
   "id": "eac4d78d",
   "metadata": {},
   "source": [
    "## Import Libraries"
   ]
  },
  {
   "cell_type": "code",
   "execution_count": 48,
   "id": "3aa987e7",
   "metadata": {
    "scrolled": true
   },
   "outputs": [],
   "source": [
    "# Data processing\n",
    "import pandas as pd\n",
    "import numpy as np\n",
    "\n",
    "# Visualization tools\n",
    "import matplotlib.pyplot as plt\n",
    "import seaborn as sns\n",
    "%matplotlib inline\n",
    "\n",
    "# Analysis\n",
    "from sklearn.feature_selection import SelectKBest\n",
    "from sklearn.feature_selection import f_classif\n",
    "from sklearn.feature_selection import chi2\n",
    "from mlxtend.feature_selection import SequentialFeatureSelector as SFS\n",
    "from sklearn.linear_model import LinearRegression\n",
    "from sklearn.model_selection import train_test_split\n",
    "from sklearn.model_selection import ShuffleSplit\n",
    "from sklearn.model_selection import cross_val_score\n",
    "from sklearn import metrics\n",
    "from sklearn.metrics import mean_absolute_error,mean_squared_error,r2_score\n",
    "from numpy import mean\n",
    "from sklearn.pipeline import Pipeline\n",
    "from sklearn.pipeline import make_pipeline\n",
    "from sklearn.preprocessing import LabelEncoder\n",
    "from sklearn.preprocessing import StandardScaler\n",
    "from sklearn.preprocessing import PolynomialFeatures\n",
    "import statsmodels.api as sm\n",
    "from scipy.stats import norm\n",
    "from scipy.stats import kstest\n",
    "from sklearn.decomposition import PCA\n",
    "\n",
    "# Warning non-activate\n",
    "import warnings\n",
    "warnings.filterwarnings('ignore')\n",
    "\n",
    "# save model\n",
    "import pickle"
   ]
  },
  {
   "cell_type": "markdown",
   "id": "be301970",
   "metadata": {},
   "source": [
    "## Data Loading"
   ]
  },
  {
   "cell_type": "markdown",
   "id": "efe62222",
   "metadata": {},
   "source": [
    "### Import Dataset"
   ]
  },
  {
   "cell_type": "code",
   "execution_count": 2,
   "id": "42cd1e7f",
   "metadata": {},
   "outputs": [],
   "source": [
    "#mengimport data\n",
    "df = pd.read_csv('rideshare_kaggle.csv')"
   ]
  },
  {
   "cell_type": "code",
   "execution_count": 60,
   "id": "de186e2a",
   "metadata": {},
   "outputs": [
    {
     "data": {
      "text/html": [
       "<div>\n",
       "<style scoped>\n",
       "    .dataframe tbody tr th:only-of-type {\n",
       "        vertical-align: middle;\n",
       "    }\n",
       "\n",
       "    .dataframe tbody tr th {\n",
       "        vertical-align: top;\n",
       "    }\n",
       "\n",
       "    .dataframe thead th {\n",
       "        text-align: right;\n",
       "    }\n",
       "</style>\n",
       "<table border=\"1\" class=\"dataframe\">\n",
       "  <thead>\n",
       "    <tr style=\"text-align: right;\">\n",
       "      <th></th>\n",
       "      <th>id</th>\n",
       "      <th>timestamp</th>\n",
       "      <th>hour</th>\n",
       "      <th>day</th>\n",
       "      <th>month</th>\n",
       "      <th>datetime</th>\n",
       "      <th>timezone</th>\n",
       "      <th>source</th>\n",
       "      <th>destination</th>\n",
       "      <th>cab_type</th>\n",
       "      <th>...</th>\n",
       "      <th>precipIntensityMax</th>\n",
       "      <th>uvIndexTime</th>\n",
       "      <th>temperatureMin</th>\n",
       "      <th>temperatureMinTime</th>\n",
       "      <th>temperatureMax</th>\n",
       "      <th>temperatureMaxTime</th>\n",
       "      <th>apparentTemperatureMin</th>\n",
       "      <th>apparentTemperatureMinTime</th>\n",
       "      <th>apparentTemperatureMax</th>\n",
       "      <th>apparentTemperatureMaxTime</th>\n",
       "    </tr>\n",
       "  </thead>\n",
       "  <tbody>\n",
       "    <tr>\n",
       "      <th>0</th>\n",
       "      <td>424553bb-7174-41ea-aeb4-fe06d4f4b9d7</td>\n",
       "      <td>1.544953e+09</td>\n",
       "      <td>9</td>\n",
       "      <td>16</td>\n",
       "      <td>12</td>\n",
       "      <td>2018-12-16 09:30:07</td>\n",
       "      <td>America/New_York</td>\n",
       "      <td>Haymarket Square</td>\n",
       "      <td>North Station</td>\n",
       "      <td>Lyft</td>\n",
       "      <td>...</td>\n",
       "      <td>0.1276</td>\n",
       "      <td>1544979600</td>\n",
       "      <td>39.89</td>\n",
       "      <td>1545012000</td>\n",
       "      <td>43.68</td>\n",
       "      <td>1544968800</td>\n",
       "      <td>33.73</td>\n",
       "      <td>1545012000</td>\n",
       "      <td>38.07</td>\n",
       "      <td>1544958000</td>\n",
       "    </tr>\n",
       "    <tr>\n",
       "      <th>1</th>\n",
       "      <td>4bd23055-6827-41c6-b23b-3c491f24e74d</td>\n",
       "      <td>1.543284e+09</td>\n",
       "      <td>2</td>\n",
       "      <td>27</td>\n",
       "      <td>11</td>\n",
       "      <td>2018-11-27 02:00:23</td>\n",
       "      <td>America/New_York</td>\n",
       "      <td>Haymarket Square</td>\n",
       "      <td>North Station</td>\n",
       "      <td>Lyft</td>\n",
       "      <td>...</td>\n",
       "      <td>0.1300</td>\n",
       "      <td>1543251600</td>\n",
       "      <td>40.49</td>\n",
       "      <td>1543233600</td>\n",
       "      <td>47.30</td>\n",
       "      <td>1543251600</td>\n",
       "      <td>36.20</td>\n",
       "      <td>1543291200</td>\n",
       "      <td>43.92</td>\n",
       "      <td>1543251600</td>\n",
       "    </tr>\n",
       "    <tr>\n",
       "      <th>2</th>\n",
       "      <td>981a3613-77af-4620-a42a-0c0866077d1e</td>\n",
       "      <td>1.543367e+09</td>\n",
       "      <td>1</td>\n",
       "      <td>28</td>\n",
       "      <td>11</td>\n",
       "      <td>2018-11-28 01:00:22</td>\n",
       "      <td>America/New_York</td>\n",
       "      <td>Haymarket Square</td>\n",
       "      <td>North Station</td>\n",
       "      <td>Lyft</td>\n",
       "      <td>...</td>\n",
       "      <td>0.1064</td>\n",
       "      <td>1543338000</td>\n",
       "      <td>35.36</td>\n",
       "      <td>1543377600</td>\n",
       "      <td>47.55</td>\n",
       "      <td>1543320000</td>\n",
       "      <td>31.04</td>\n",
       "      <td>1543377600</td>\n",
       "      <td>44.12</td>\n",
       "      <td>1543320000</td>\n",
       "    </tr>\n",
       "    <tr>\n",
       "      <th>3</th>\n",
       "      <td>c2d88af2-d278-4bfd-a8d0-29ca77cc5512</td>\n",
       "      <td>1.543554e+09</td>\n",
       "      <td>4</td>\n",
       "      <td>30</td>\n",
       "      <td>11</td>\n",
       "      <td>2018-11-30 04:53:02</td>\n",
       "      <td>America/New_York</td>\n",
       "      <td>Haymarket Square</td>\n",
       "      <td>North Station</td>\n",
       "      <td>Lyft</td>\n",
       "      <td>...</td>\n",
       "      <td>0.0000</td>\n",
       "      <td>1543507200</td>\n",
       "      <td>34.67</td>\n",
       "      <td>1543550400</td>\n",
       "      <td>45.03</td>\n",
       "      <td>1543510800</td>\n",
       "      <td>30.30</td>\n",
       "      <td>1543550400</td>\n",
       "      <td>38.53</td>\n",
       "      <td>1543510800</td>\n",
       "    </tr>\n",
       "    <tr>\n",
       "      <th>4</th>\n",
       "      <td>e0126e1f-8ca9-4f2e-82b3-50505a09db9a</td>\n",
       "      <td>1.543463e+09</td>\n",
       "      <td>3</td>\n",
       "      <td>29</td>\n",
       "      <td>11</td>\n",
       "      <td>2018-11-29 03:49:20</td>\n",
       "      <td>America/New_York</td>\n",
       "      <td>Haymarket Square</td>\n",
       "      <td>North Station</td>\n",
       "      <td>Lyft</td>\n",
       "      <td>...</td>\n",
       "      <td>0.0001</td>\n",
       "      <td>1543420800</td>\n",
       "      <td>33.10</td>\n",
       "      <td>1543402800</td>\n",
       "      <td>42.18</td>\n",
       "      <td>1543420800</td>\n",
       "      <td>29.11</td>\n",
       "      <td>1543392000</td>\n",
       "      <td>35.75</td>\n",
       "      <td>1543420800</td>\n",
       "    </tr>\n",
       "  </tbody>\n",
       "</table>\n",
       "<p>5 rows × 57 columns</p>\n",
       "</div>"
      ],
      "text/plain": [
       "                                     id     timestamp  hour  day  month  \\\n",
       "0  424553bb-7174-41ea-aeb4-fe06d4f4b9d7  1.544953e+09     9   16     12   \n",
       "1  4bd23055-6827-41c6-b23b-3c491f24e74d  1.543284e+09     2   27     11   \n",
       "2  981a3613-77af-4620-a42a-0c0866077d1e  1.543367e+09     1   28     11   \n",
       "3  c2d88af2-d278-4bfd-a8d0-29ca77cc5512  1.543554e+09     4   30     11   \n",
       "4  e0126e1f-8ca9-4f2e-82b3-50505a09db9a  1.543463e+09     3   29     11   \n",
       "\n",
       "              datetime          timezone            source    destination  \\\n",
       "0  2018-12-16 09:30:07  America/New_York  Haymarket Square  North Station   \n",
       "1  2018-11-27 02:00:23  America/New_York  Haymarket Square  North Station   \n",
       "2  2018-11-28 01:00:22  America/New_York  Haymarket Square  North Station   \n",
       "3  2018-11-30 04:53:02  America/New_York  Haymarket Square  North Station   \n",
       "4  2018-11-29 03:49:20  America/New_York  Haymarket Square  North Station   \n",
       "\n",
       "  cab_type  ... precipIntensityMax uvIndexTime  temperatureMin  \\\n",
       "0     Lyft  ...             0.1276  1544979600           39.89   \n",
       "1     Lyft  ...             0.1300  1543251600           40.49   \n",
       "2     Lyft  ...             0.1064  1543338000           35.36   \n",
       "3     Lyft  ...             0.0000  1543507200           34.67   \n",
       "4     Lyft  ...             0.0001  1543420800           33.10   \n",
       "\n",
       "   temperatureMinTime  temperatureMax  temperatureMaxTime  \\\n",
       "0          1545012000           43.68          1544968800   \n",
       "1          1543233600           47.30          1543251600   \n",
       "2          1543377600           47.55          1543320000   \n",
       "3          1543550400           45.03          1543510800   \n",
       "4          1543402800           42.18          1543420800   \n",
       "\n",
       "   apparentTemperatureMin  apparentTemperatureMinTime  apparentTemperatureMax  \\\n",
       "0                   33.73                  1545012000                   38.07   \n",
       "1                   36.20                  1543291200                   43.92   \n",
       "2                   31.04                  1543377600                   44.12   \n",
       "3                   30.30                  1543550400                   38.53   \n",
       "4                   29.11                  1543392000                   35.75   \n",
       "\n",
       "  apparentTemperatureMaxTime  \n",
       "0                 1544958000  \n",
       "1                 1543251600  \n",
       "2                 1543320000  \n",
       "3                 1543510800  \n",
       "4                 1543420800  \n",
       "\n",
       "[5 rows x 57 columns]"
      ]
     },
     "execution_count": 60,
     "metadata": {},
     "output_type": "execute_result"
    }
   ],
   "source": [
    "#menampilkan 5 data teratas\n",
    "df.head(5)"
   ]
  },
  {
   "cell_type": "code",
   "execution_count": 51,
   "id": "7654df40",
   "metadata": {},
   "outputs": [
    {
     "data": {
      "text/html": [
       "<div>\n",
       "<style scoped>\n",
       "    .dataframe tbody tr th:only-of-type {\n",
       "        vertical-align: middle;\n",
       "    }\n",
       "\n",
       "    .dataframe tbody tr th {\n",
       "        vertical-align: top;\n",
       "    }\n",
       "\n",
       "    .dataframe thead th {\n",
       "        text-align: right;\n",
       "    }\n",
       "</style>\n",
       "<table border=\"1\" class=\"dataframe\">\n",
       "  <thead>\n",
       "    <tr style=\"text-align: right;\">\n",
       "      <th></th>\n",
       "      <th>id</th>\n",
       "      <th>timestamp</th>\n",
       "      <th>hour</th>\n",
       "      <th>day</th>\n",
       "      <th>month</th>\n",
       "      <th>datetime</th>\n",
       "      <th>timezone</th>\n",
       "      <th>source</th>\n",
       "      <th>destination</th>\n",
       "      <th>cab_type</th>\n",
       "      <th>...</th>\n",
       "      <th>precipIntensityMax</th>\n",
       "      <th>uvIndexTime</th>\n",
       "      <th>temperatureMin</th>\n",
       "      <th>temperatureMinTime</th>\n",
       "      <th>temperatureMax</th>\n",
       "      <th>temperatureMaxTime</th>\n",
       "      <th>apparentTemperatureMin</th>\n",
       "      <th>apparentTemperatureMinTime</th>\n",
       "      <th>apparentTemperatureMax</th>\n",
       "      <th>apparentTemperatureMaxTime</th>\n",
       "    </tr>\n",
       "  </thead>\n",
       "  <tbody>\n",
       "    <tr>\n",
       "      <th>693066</th>\n",
       "      <td>616d3611-1820-450a-9845-a9ff304a4842</td>\n",
       "      <td>1.543708e+09</td>\n",
       "      <td>23</td>\n",
       "      <td>1</td>\n",
       "      <td>12</td>\n",
       "      <td>2018-12-01 23:53:05</td>\n",
       "      <td>America/New_York</td>\n",
       "      <td>West End</td>\n",
       "      <td>North End</td>\n",
       "      <td>Uber</td>\n",
       "      <td>...</td>\n",
       "      <td>0.0</td>\n",
       "      <td>1543683600</td>\n",
       "      <td>31.42</td>\n",
       "      <td>1543658400</td>\n",
       "      <td>44.76</td>\n",
       "      <td>1543690800</td>\n",
       "      <td>27.77</td>\n",
       "      <td>1543658400</td>\n",
       "      <td>44.09</td>\n",
       "      <td>1543690800</td>\n",
       "    </tr>\n",
       "    <tr>\n",
       "      <th>693067</th>\n",
       "      <td>633a3fc3-1f86-4b9e-9d48-2b7132112341</td>\n",
       "      <td>1.543708e+09</td>\n",
       "      <td>23</td>\n",
       "      <td>1</td>\n",
       "      <td>12</td>\n",
       "      <td>2018-12-01 23:53:05</td>\n",
       "      <td>America/New_York</td>\n",
       "      <td>West End</td>\n",
       "      <td>North End</td>\n",
       "      <td>Uber</td>\n",
       "      <td>...</td>\n",
       "      <td>0.0</td>\n",
       "      <td>1543683600</td>\n",
       "      <td>31.42</td>\n",
       "      <td>1543658400</td>\n",
       "      <td>44.76</td>\n",
       "      <td>1543690800</td>\n",
       "      <td>27.77</td>\n",
       "      <td>1543658400</td>\n",
       "      <td>44.09</td>\n",
       "      <td>1543690800</td>\n",
       "    </tr>\n",
       "    <tr>\n",
       "      <th>693068</th>\n",
       "      <td>64d451d0-639f-47a4-9b7c-6fd92fbd264f</td>\n",
       "      <td>1.543708e+09</td>\n",
       "      <td>23</td>\n",
       "      <td>1</td>\n",
       "      <td>12</td>\n",
       "      <td>2018-12-01 23:53:05</td>\n",
       "      <td>America/New_York</td>\n",
       "      <td>West End</td>\n",
       "      <td>North End</td>\n",
       "      <td>Uber</td>\n",
       "      <td>...</td>\n",
       "      <td>0.0</td>\n",
       "      <td>1543683600</td>\n",
       "      <td>31.42</td>\n",
       "      <td>1543658400</td>\n",
       "      <td>44.76</td>\n",
       "      <td>1543690800</td>\n",
       "      <td>27.77</td>\n",
       "      <td>1543658400</td>\n",
       "      <td>44.09</td>\n",
       "      <td>1543690800</td>\n",
       "    </tr>\n",
       "    <tr>\n",
       "      <th>693069</th>\n",
       "      <td>727e5f07-a96b-4ad1-a2c7-9abc3ad55b4e</td>\n",
       "      <td>1.543708e+09</td>\n",
       "      <td>23</td>\n",
       "      <td>1</td>\n",
       "      <td>12</td>\n",
       "      <td>2018-12-01 23:53:05</td>\n",
       "      <td>America/New_York</td>\n",
       "      <td>West End</td>\n",
       "      <td>North End</td>\n",
       "      <td>Uber</td>\n",
       "      <td>...</td>\n",
       "      <td>0.0</td>\n",
       "      <td>1543683600</td>\n",
       "      <td>31.42</td>\n",
       "      <td>1543658400</td>\n",
       "      <td>44.76</td>\n",
       "      <td>1543690800</td>\n",
       "      <td>27.77</td>\n",
       "      <td>1543658400</td>\n",
       "      <td>44.09</td>\n",
       "      <td>1543690800</td>\n",
       "    </tr>\n",
       "    <tr>\n",
       "      <th>693070</th>\n",
       "      <td>e7fdc087-fe86-40a5-a3c3-3b2a8badcbda</td>\n",
       "      <td>1.543708e+09</td>\n",
       "      <td>23</td>\n",
       "      <td>1</td>\n",
       "      <td>12</td>\n",
       "      <td>2018-12-01 23:53:05</td>\n",
       "      <td>America/New_York</td>\n",
       "      <td>West End</td>\n",
       "      <td>North End</td>\n",
       "      <td>Uber</td>\n",
       "      <td>...</td>\n",
       "      <td>0.0</td>\n",
       "      <td>1543683600</td>\n",
       "      <td>31.42</td>\n",
       "      <td>1543658400</td>\n",
       "      <td>44.76</td>\n",
       "      <td>1543690800</td>\n",
       "      <td>27.77</td>\n",
       "      <td>1543658400</td>\n",
       "      <td>44.09</td>\n",
       "      <td>1543690800</td>\n",
       "    </tr>\n",
       "  </tbody>\n",
       "</table>\n",
       "<p>5 rows × 57 columns</p>\n",
       "</div>"
      ],
      "text/plain": [
       "                                          id     timestamp  hour  day  month  \\\n",
       "693066  616d3611-1820-450a-9845-a9ff304a4842  1.543708e+09    23    1     12   \n",
       "693067  633a3fc3-1f86-4b9e-9d48-2b7132112341  1.543708e+09    23    1     12   \n",
       "693068  64d451d0-639f-47a4-9b7c-6fd92fbd264f  1.543708e+09    23    1     12   \n",
       "693069  727e5f07-a96b-4ad1-a2c7-9abc3ad55b4e  1.543708e+09    23    1     12   \n",
       "693070  e7fdc087-fe86-40a5-a3c3-3b2a8badcbda  1.543708e+09    23    1     12   \n",
       "\n",
       "                   datetime          timezone    source destination cab_type  \\\n",
       "693066  2018-12-01 23:53:05  America/New_York  West End   North End     Uber   \n",
       "693067  2018-12-01 23:53:05  America/New_York  West End   North End     Uber   \n",
       "693068  2018-12-01 23:53:05  America/New_York  West End   North End     Uber   \n",
       "693069  2018-12-01 23:53:05  America/New_York  West End   North End     Uber   \n",
       "693070  2018-12-01 23:53:05  America/New_York  West End   North End     Uber   \n",
       "\n",
       "        ... precipIntensityMax uvIndexTime  temperatureMin  \\\n",
       "693066  ...                0.0  1543683600           31.42   \n",
       "693067  ...                0.0  1543683600           31.42   \n",
       "693068  ...                0.0  1543683600           31.42   \n",
       "693069  ...                0.0  1543683600           31.42   \n",
       "693070  ...                0.0  1543683600           31.42   \n",
       "\n",
       "        temperatureMinTime  temperatureMax  temperatureMaxTime  \\\n",
       "693066          1543658400           44.76          1543690800   \n",
       "693067          1543658400           44.76          1543690800   \n",
       "693068          1543658400           44.76          1543690800   \n",
       "693069          1543658400           44.76          1543690800   \n",
       "693070          1543658400           44.76          1543690800   \n",
       "\n",
       "        apparentTemperatureMin  apparentTemperatureMinTime  \\\n",
       "693066                   27.77                  1543658400   \n",
       "693067                   27.77                  1543658400   \n",
       "693068                   27.77                  1543658400   \n",
       "693069                   27.77                  1543658400   \n",
       "693070                   27.77                  1543658400   \n",
       "\n",
       "        apparentTemperatureMax apparentTemperatureMaxTime  \n",
       "693066                   44.09                 1543690800  \n",
       "693067                   44.09                 1543690800  \n",
       "693068                   44.09                 1543690800  \n",
       "693069                   44.09                 1543690800  \n",
       "693070                   44.09                 1543690800  \n",
       "\n",
       "[5 rows x 57 columns]"
      ]
     },
     "execution_count": 51,
     "metadata": {},
     "output_type": "execute_result"
    }
   ],
   "source": [
    "#menampilkan 5 data terbawah\n",
    "df.tail(5)"
   ]
  },
  {
   "cell_type": "markdown",
   "id": "0ce6228c",
   "metadata": {},
   "source": [
    "### Dimensi dataset"
   ]
  },
  {
   "cell_type": "code",
   "execution_count": 3,
   "id": "dd39178c",
   "metadata": {},
   "outputs": [
    {
     "data": {
      "text/plain": [
       "(693071, 57)"
      ]
     },
     "execution_count": 3,
     "metadata": {},
     "output_type": "execute_result"
    }
   ],
   "source": [
    "df.shape"
   ]
  },
  {
   "cell_type": "markdown",
   "id": "3b195646",
   "metadata": {},
   "source": [
    "dataset terdiri dari 693071 baris dan 57 kolom. hal ini berarti bahwa ada 57 atribut atau variabel dengan 693071 observasi."
   ]
  },
  {
   "cell_type": "markdown",
   "id": "80785738",
   "metadata": {},
   "source": [
    "### Informasi tipe Data"
   ]
  },
  {
   "cell_type": "code",
   "execution_count": 4,
   "id": "4607c73a",
   "metadata": {},
   "outputs": [
    {
     "name": "stdout",
     "output_type": "stream",
     "text": [
      "<class 'pandas.core.frame.DataFrame'>\n",
      "RangeIndex: 693071 entries, 0 to 693070\n",
      "Data columns (total 57 columns):\n",
      " #   Column                       Non-Null Count   Dtype  \n",
      "---  ------                       --------------   -----  \n",
      " 0   id                           693071 non-null  object \n",
      " 1   timestamp                    693071 non-null  float64\n",
      " 2   hour                         693071 non-null  int64  \n",
      " 3   day                          693071 non-null  int64  \n",
      " 4   month                        693071 non-null  int64  \n",
      " 5   datetime                     693071 non-null  object \n",
      " 6   timezone                     693071 non-null  object \n",
      " 7   source                       693071 non-null  object \n",
      " 8   destination                  693071 non-null  object \n",
      " 9   cab_type                     693071 non-null  object \n",
      " 10  product_id                   693071 non-null  object \n",
      " 11  name                         693071 non-null  object \n",
      " 12  price                        637976 non-null  float64\n",
      " 13  distance                     693071 non-null  float64\n",
      " 14  surge_multiplier             693071 non-null  float64\n",
      " 15  latitude                     693071 non-null  float64\n",
      " 16  longitude                    693071 non-null  float64\n",
      " 17  temperature                  693071 non-null  float64\n",
      " 18  apparentTemperature          693071 non-null  float64\n",
      " 19  short_summary                693071 non-null  object \n",
      " 20  long_summary                 693071 non-null  object \n",
      " 21  precipIntensity              693071 non-null  float64\n",
      " 22  precipProbability            693071 non-null  float64\n",
      " 23  humidity                     693071 non-null  float64\n",
      " 24  windSpeed                    693071 non-null  float64\n",
      " 25  windGust                     693071 non-null  float64\n",
      " 26  windGustTime                 693071 non-null  int64  \n",
      " 27  visibility                   693071 non-null  float64\n",
      " 28  temperatureHigh              693071 non-null  float64\n",
      " 29  temperatureHighTime          693071 non-null  int64  \n",
      " 30  temperatureLow               693071 non-null  float64\n",
      " 31  temperatureLowTime           693071 non-null  int64  \n",
      " 32  apparentTemperatureHigh      693071 non-null  float64\n",
      " 33  apparentTemperatureHighTime  693071 non-null  int64  \n",
      " 34  apparentTemperatureLow       693071 non-null  float64\n",
      " 35  apparentTemperatureLowTime   693071 non-null  int64  \n",
      " 36  icon                         693071 non-null  object \n",
      " 37  dewPoint                     693071 non-null  float64\n",
      " 38  pressure                     693071 non-null  float64\n",
      " 39  windBearing                  693071 non-null  int64  \n",
      " 40  cloudCover                   693071 non-null  float64\n",
      " 41  uvIndex                      693071 non-null  int64  \n",
      " 42  visibility.1                 693071 non-null  float64\n",
      " 43  ozone                        693071 non-null  float64\n",
      " 44  sunriseTime                  693071 non-null  int64  \n",
      " 45  sunsetTime                   693071 non-null  int64  \n",
      " 46  moonPhase                    693071 non-null  float64\n",
      " 47  precipIntensityMax           693071 non-null  float64\n",
      " 48  uvIndexTime                  693071 non-null  int64  \n",
      " 49  temperatureMin               693071 non-null  float64\n",
      " 50  temperatureMinTime           693071 non-null  int64  \n",
      " 51  temperatureMax               693071 non-null  float64\n",
      " 52  temperatureMaxTime           693071 non-null  int64  \n",
      " 53  apparentTemperatureMin       693071 non-null  float64\n",
      " 54  apparentTemperatureMinTime   693071 non-null  int64  \n",
      " 55  apparentTemperatureMax       693071 non-null  float64\n",
      " 56  apparentTemperatureMaxTime   693071 non-null  int64  \n",
      "dtypes: float64(29), int64(17), object(11)\n",
      "memory usage: 301.4+ MB\n"
     ]
    }
   ],
   "source": [
    "df.info()"
   ]
  },
  {
   "cell_type": "markdown",
   "id": "4866da89",
   "metadata": {},
   "source": [
    "### Nilai unique data"
   ]
  },
  {
   "cell_type": "code",
   "execution_count": 7,
   "id": "ab76cd02",
   "metadata": {},
   "outputs": [
    {
     "data": {
      "text/plain": [
       "id                             693071\n",
       "timestamp                       36179\n",
       "hour                               24\n",
       "day                                17\n",
       "month                               2\n",
       "datetime                        31350\n",
       "timezone                            1\n",
       "source                             12\n",
       "destination                        12\n",
       "cab_type                            2\n",
       "product_id                         13\n",
       "name                               13\n",
       "price                             147\n",
       "distance                          549\n",
       "surge_multiplier                    7\n",
       "latitude                           11\n",
       "longitude                          12\n",
       "temperature                       308\n",
       "apparentTemperature               319\n",
       "short_summary                       9\n",
       "long_summary                       11\n",
       "precipIntensity                    63\n",
       "precipProbability                  29\n",
       "humidity                           51\n",
       "windSpeed                         291\n",
       "windGust                          286\n",
       "windGustTime                       25\n",
       "visibility                        227\n",
       "temperatureHigh                   129\n",
       "temperatureHighTime                23\n",
       "temperatureLow                    133\n",
       "temperatureLowTime                 31\n",
       "apparentTemperatureHigh           124\n",
       "apparentTemperatureHighTime        27\n",
       "apparentTemperatureLow            136\n",
       "apparentTemperatureLowTime         32\n",
       "icon                                7\n",
       "dewPoint                          313\n",
       "pressure                          316\n",
       "windBearing                       195\n",
       "cloudCover                         83\n",
       "uvIndex                             3\n",
       "visibility.1                      227\n",
       "ozone                             274\n",
       "sunriseTime                       110\n",
       "sunsetTime                        114\n",
       "moonPhase                          18\n",
       "precipIntensityMax                 65\n",
       "uvIndexTime                        20\n",
       "temperatureMin                    131\n",
       "temperatureMinTime                 25\n",
       "temperatureMax                    128\n",
       "temperatureMaxTime                 23\n",
       "apparentTemperatureMin            137\n",
       "apparentTemperatureMinTime         29\n",
       "apparentTemperatureMax            125\n",
       "apparentTemperatureMaxTime         27\n",
       "dtype: int64"
      ]
     },
     "execution_count": 7,
     "metadata": {},
     "output_type": "execute_result"
    }
   ],
   "source": [
    "df.nunique()"
   ]
  },
  {
   "cell_type": "markdown",
   "id": "45ccea27",
   "metadata": {},
   "source": [
    "## Data Cleaning"
   ]
  },
  {
   "cell_type": "markdown",
   "id": "a4e0efbe",
   "metadata": {},
   "source": [
    "### Cek missing values"
   ]
  },
  {
   "cell_type": "code",
   "execution_count": 3,
   "id": "86d739b5",
   "metadata": {},
   "outputs": [
    {
     "data": {
      "text/plain": [
       "id                                 0\n",
       "timestamp                          0\n",
       "hour                               0\n",
       "day                                0\n",
       "month                              0\n",
       "datetime                           0\n",
       "timezone                           0\n",
       "source                             0\n",
       "destination                        0\n",
       "cab_type                           0\n",
       "product_id                         0\n",
       "name                               0\n",
       "price                          55095\n",
       "distance                           0\n",
       "surge_multiplier                   0\n",
       "latitude                           0\n",
       "longitude                          0\n",
       "temperature                        0\n",
       "apparentTemperature                0\n",
       "short_summary                      0\n",
       "long_summary                       0\n",
       "precipIntensity                    0\n",
       "precipProbability                  0\n",
       "humidity                           0\n",
       "windSpeed                          0\n",
       "windGust                           0\n",
       "windGustTime                       0\n",
       "visibility                         0\n",
       "temperatureHigh                    0\n",
       "temperatureHighTime                0\n",
       "temperatureLow                     0\n",
       "temperatureLowTime                 0\n",
       "apparentTemperatureHigh            0\n",
       "apparentTemperatureHighTime        0\n",
       "apparentTemperatureLow             0\n",
       "apparentTemperatureLowTime         0\n",
       "icon                               0\n",
       "dewPoint                           0\n",
       "pressure                           0\n",
       "windBearing                        0\n",
       "cloudCover                         0\n",
       "uvIndex                            0\n",
       "visibility.1                       0\n",
       "ozone                              0\n",
       "sunriseTime                        0\n",
       "sunsetTime                         0\n",
       "moonPhase                          0\n",
       "precipIntensityMax                 0\n",
       "uvIndexTime                        0\n",
       "temperatureMin                     0\n",
       "temperatureMinTime                 0\n",
       "temperatureMax                     0\n",
       "temperatureMaxTime                 0\n",
       "apparentTemperatureMin             0\n",
       "apparentTemperatureMinTime         0\n",
       "apparentTemperatureMax             0\n",
       "apparentTemperatureMaxTime         0\n",
       "dtype: int64"
      ]
     },
     "execution_count": 3,
     "metadata": {},
     "output_type": "execute_result"
    }
   ],
   "source": [
    "#cek missing values\n",
    "df.isnull().sum()"
   ]
  },
  {
   "cell_type": "markdown",
   "id": "dac04dc8",
   "metadata": {},
   "source": [
    "pada data atribut **price** terlihat missing values sebanyak 55095, sehingga perlu dilakukan penanganan untuk menghilangkan missing values."
   ]
  },
  {
   "cell_type": "markdown",
   "id": "6d16a11b",
   "metadata": {},
   "source": [
    "### Penanganan missing values\n",
    "perlu digaris bawahi bahwa atribut **price** merupakan variabel dependen (yang dipengaruhi), sehingga penanganan tidak mungkin dilakukan dengan mengisi missing values tersebut karena dapat menyebabkan nilai akurasi yang kurang akurat. maka, penanganan dilakukan dengan menghapus baris yang terdapat missing values / drop missing value pada kolom price."
   ]
  },
  {
   "cell_type": "code",
   "execution_count": 3,
   "id": "a691b626",
   "metadata": {},
   "outputs": [],
   "source": [
    "df = df.dropna(subset=['price']).reset_index()"
   ]
  },
  {
   "cell_type": "markdown",
   "id": "6f923da2",
   "metadata": {},
   "source": [
    "### Cek kembali untuk memastikan tidak ada missing values"
   ]
  },
  {
   "cell_type": "code",
   "execution_count": 4,
   "id": "06b12af5",
   "metadata": {},
   "outputs": [
    {
     "data": {
      "text/plain": [
       "index                          0\n",
       "id                             0\n",
       "timestamp                      0\n",
       "hour                           0\n",
       "day                            0\n",
       "month                          0\n",
       "datetime                       0\n",
       "timezone                       0\n",
       "source                         0\n",
       "destination                    0\n",
       "cab_type                       0\n",
       "product_id                     0\n",
       "name                           0\n",
       "price                          0\n",
       "distance                       0\n",
       "surge_multiplier               0\n",
       "latitude                       0\n",
       "longitude                      0\n",
       "temperature                    0\n",
       "apparentTemperature            0\n",
       "short_summary                  0\n",
       "long_summary                   0\n",
       "precipIntensity                0\n",
       "precipProbability              0\n",
       "humidity                       0\n",
       "windSpeed                      0\n",
       "windGust                       0\n",
       "windGustTime                   0\n",
       "visibility                     0\n",
       "temperatureHigh                0\n",
       "temperatureHighTime            0\n",
       "temperatureLow                 0\n",
       "temperatureLowTime             0\n",
       "apparentTemperatureHigh        0\n",
       "apparentTemperatureHighTime    0\n",
       "apparentTemperatureLow         0\n",
       "apparentTemperatureLowTime     0\n",
       "icon                           0\n",
       "dewPoint                       0\n",
       "pressure                       0\n",
       "windBearing                    0\n",
       "cloudCover                     0\n",
       "uvIndex                        0\n",
       "visibility.1                   0\n",
       "ozone                          0\n",
       "sunriseTime                    0\n",
       "sunsetTime                     0\n",
       "moonPhase                      0\n",
       "precipIntensityMax             0\n",
       "uvIndexTime                    0\n",
       "temperatureMin                 0\n",
       "temperatureMinTime             0\n",
       "temperatureMax                 0\n",
       "temperatureMaxTime             0\n",
       "apparentTemperatureMin         0\n",
       "apparentTemperatureMinTime     0\n",
       "apparentTemperatureMax         0\n",
       "apparentTemperatureMaxTime     0\n",
       "dtype: int64"
      ]
     },
     "execution_count": 4,
     "metadata": {},
     "output_type": "execute_result"
    }
   ],
   "source": [
    "df.isnull().sum()"
   ]
  },
  {
   "cell_type": "markdown",
   "id": "676f4cc1",
   "metadata": {},
   "source": [
    "terlihat bahwa sudah tidak ada lagi missing values"
   ]
  },
  {
   "cell_type": "markdown",
   "id": "9ef51ef3",
   "metadata": {},
   "source": [
    "## Slicing Data\n",
    "melakukan drop pada sejumlah atribut karena beberapa alasan seperti:\n",
    "- **index** tidak diperlukan karena duplikasi dari index sudah ada\n",
    "- **id** tidak diperlukan karena nilainya sangat unik dan mewakili setiap input\n",
    "- **timestamp** dan **datetime** tidak diperlukan karena sudah dipecah menjadi month, day, dan hour\n",
    "- **long_summary** karena sudah diwakili atribut **short_summary**\n",
    "- atribut yang berkaitan dengan waktu, seperti datetime, windGustTime dan lainnya, tidak diperlukan karena sudah diwakili oleh atribut **month**, **day**, dan **hour**\n",
    "- **Longtitude** dan **Latitude** tidak diperlukan karena sudah diwakili oleh **Destination**\n",
    "- dan yang lainnya"
   ]
  },
  {
   "cell_type": "markdown",
   "id": "b284078b",
   "metadata": {},
   "source": [
    "sehingga dari 57 atribut hanya diambil atribut berikut ini:\n",
    "- cab_type: Brand transportasi online\n",
    "- Name: jenis mobil yang dipilih\n",
    "- Hour: jam pemesanan transportasi online\n",
    "- Day: tanggal pemesanan transportasi online\n",
    "- Month: Bulan pemesanan transportasi online\n",
    "- Source: Destinasi awal\n",
    "- destination: tujuan\n",
    "- Price: Harga transportasi online\n",
    "- Distance: Jarak tempuh\n",
    "- Short_summary: Cuaca ketika pemesanan transportasi online\n",
    "- windSpeed:Kecepatan angin\n",
    "- Temperature: suhu ketika pemesanan transportasi online\n",
    "- Visibility: jarak penglihatan\n",
    "- Surge_multiplier: kenaikan harga penawaran ketika terjadi lonjakan penumpang"
   ]
  },
  {
   "cell_type": "code",
   "execution_count": 5,
   "id": "18018ade",
   "metadata": {
    "scrolled": true
   },
   "outputs": [
    {
     "data": {
      "text/html": [
       "<div>\n",
       "<style scoped>\n",
       "    .dataframe tbody tr th:only-of-type {\n",
       "        vertical-align: middle;\n",
       "    }\n",
       "\n",
       "    .dataframe tbody tr th {\n",
       "        vertical-align: top;\n",
       "    }\n",
       "\n",
       "    .dataframe thead th {\n",
       "        text-align: right;\n",
       "    }\n",
       "</style>\n",
       "<table border=\"1\" class=\"dataframe\">\n",
       "  <thead>\n",
       "    <tr style=\"text-align: right;\">\n",
       "      <th></th>\n",
       "      <th>cab_type</th>\n",
       "      <th>name</th>\n",
       "      <th>hour</th>\n",
       "      <th>day</th>\n",
       "      <th>month</th>\n",
       "      <th>source</th>\n",
       "      <th>destination</th>\n",
       "      <th>price</th>\n",
       "      <th>distance</th>\n",
       "      <th>short_summary</th>\n",
       "      <th>windSpeed</th>\n",
       "      <th>temperature</th>\n",
       "      <th>visibility</th>\n",
       "      <th>surge_multiplier</th>\n",
       "    </tr>\n",
       "  </thead>\n",
       "  <tbody>\n",
       "    <tr>\n",
       "      <th>0</th>\n",
       "      <td>Lyft</td>\n",
       "      <td>Shared</td>\n",
       "      <td>9</td>\n",
       "      <td>16</td>\n",
       "      <td>12</td>\n",
       "      <td>Haymarket Square</td>\n",
       "      <td>North Station</td>\n",
       "      <td>5.0</td>\n",
       "      <td>0.44</td>\n",
       "      <td>Mostly Cloudy</td>\n",
       "      <td>8.66</td>\n",
       "      <td>42.34</td>\n",
       "      <td>10.000</td>\n",
       "      <td>1.0</td>\n",
       "    </tr>\n",
       "    <tr>\n",
       "      <th>1</th>\n",
       "      <td>Lyft</td>\n",
       "      <td>Lux</td>\n",
       "      <td>2</td>\n",
       "      <td>27</td>\n",
       "      <td>11</td>\n",
       "      <td>Haymarket Square</td>\n",
       "      <td>North Station</td>\n",
       "      <td>11.0</td>\n",
       "      <td>0.44</td>\n",
       "      <td>Rain</td>\n",
       "      <td>11.98</td>\n",
       "      <td>43.58</td>\n",
       "      <td>4.786</td>\n",
       "      <td>1.0</td>\n",
       "    </tr>\n",
       "    <tr>\n",
       "      <th>2</th>\n",
       "      <td>Lyft</td>\n",
       "      <td>Lyft</td>\n",
       "      <td>1</td>\n",
       "      <td>28</td>\n",
       "      <td>11</td>\n",
       "      <td>Haymarket Square</td>\n",
       "      <td>North Station</td>\n",
       "      <td>7.0</td>\n",
       "      <td>0.44</td>\n",
       "      <td>Clear</td>\n",
       "      <td>7.33</td>\n",
       "      <td>38.33</td>\n",
       "      <td>10.000</td>\n",
       "      <td>1.0</td>\n",
       "    </tr>\n",
       "    <tr>\n",
       "      <th>3</th>\n",
       "      <td>Lyft</td>\n",
       "      <td>Lux Black XL</td>\n",
       "      <td>4</td>\n",
       "      <td>30</td>\n",
       "      <td>11</td>\n",
       "      <td>Haymarket Square</td>\n",
       "      <td>North Station</td>\n",
       "      <td>26.0</td>\n",
       "      <td>0.44</td>\n",
       "      <td>Clear</td>\n",
       "      <td>5.28</td>\n",
       "      <td>34.38</td>\n",
       "      <td>10.000</td>\n",
       "      <td>1.0</td>\n",
       "    </tr>\n",
       "    <tr>\n",
       "      <th>4</th>\n",
       "      <td>Lyft</td>\n",
       "      <td>Lyft XL</td>\n",
       "      <td>3</td>\n",
       "      <td>29</td>\n",
       "      <td>11</td>\n",
       "      <td>Haymarket Square</td>\n",
       "      <td>North Station</td>\n",
       "      <td>9.0</td>\n",
       "      <td>0.44</td>\n",
       "      <td>Partly Cloudy</td>\n",
       "      <td>9.14</td>\n",
       "      <td>37.44</td>\n",
       "      <td>10.000</td>\n",
       "      <td>1.0</td>\n",
       "    </tr>\n",
       "  </tbody>\n",
       "</table>\n",
       "</div>"
      ],
      "text/plain": [
       "  cab_type          name  hour  day  month            source    destination  \\\n",
       "0     Lyft        Shared     9   16     12  Haymarket Square  North Station   \n",
       "1     Lyft           Lux     2   27     11  Haymarket Square  North Station   \n",
       "2     Lyft          Lyft     1   28     11  Haymarket Square  North Station   \n",
       "3     Lyft  Lux Black XL     4   30     11  Haymarket Square  North Station   \n",
       "4     Lyft       Lyft XL     3   29     11  Haymarket Square  North Station   \n",
       "\n",
       "   price  distance    short_summary  windSpeed  temperature  visibility  \\\n",
       "0    5.0      0.44   Mostly Cloudy        8.66        42.34      10.000   \n",
       "1   11.0      0.44            Rain       11.98        43.58       4.786   \n",
       "2    7.0      0.44           Clear        7.33        38.33      10.000   \n",
       "3   26.0      0.44           Clear        5.28        34.38      10.000   \n",
       "4    9.0      0.44   Partly Cloudy        9.14        37.44      10.000   \n",
       "\n",
       "   surge_multiplier  \n",
       "0               1.0  \n",
       "1               1.0  \n",
       "2               1.0  \n",
       "3               1.0  \n",
       "4               1.0  "
      ]
     },
     "execution_count": 5,
     "metadata": {},
     "output_type": "execute_result"
    }
   ],
   "source": [
    "df = df[['cab_type',\n",
    "              'name', \n",
    "              'hour', \n",
    "              'day', \n",
    "              'month', \n",
    "              'source', \n",
    "              'destination', \n",
    "              'price', \n",
    "              'distance', \n",
    "              'short_summary', \n",
    "              'windSpeed', \n",
    "              'temperature', \n",
    "              'visibility', \n",
    "              'surge_multiplier']]\n",
    "df.head()"
   ]
  },
  {
   "cell_type": "code",
   "execution_count": 9,
   "id": "bed44cd3",
   "metadata": {},
   "outputs": [
    {
     "data": {
      "text/plain": [
       "(637976, 14)"
      ]
     },
     "execution_count": 9,
     "metadata": {},
     "output_type": "execute_result"
    }
   ],
   "source": [
    "#dimensi feature\n",
    "df.shape"
   ]
  },
  {
   "cell_type": "markdown",
   "id": "35be316b",
   "metadata": {},
   "source": [
    "data yang dibutuhkan terdiri dari 14 atribut dengan 637976 observasi"
   ]
  },
  {
   "cell_type": "code",
   "execution_count": 68,
   "id": "308d1c74",
   "metadata": {},
   "outputs": [
    {
     "name": "stdout",
     "output_type": "stream",
     "text": [
      "cab_type : \n",
      "Uber    330568\n",
      "Lyft    307408\n",
      "Name: cab_type, dtype: int64\n",
      "  \n",
      "  \n",
      "name : \n",
      "UberXL          55096\n",
      "WAV             55096\n",
      "Black SUV       55096\n",
      "Black           55095\n",
      "UberX           55094\n",
      "UberPool        55091\n",
      "Lux             51235\n",
      "Lyft            51235\n",
      "Lux Black XL    51235\n",
      "Lyft XL         51235\n",
      "Lux Black       51235\n",
      "Shared          51233\n",
      "Name: name, dtype: int64\n",
      "  \n",
      "  \n",
      "hour : \n",
      "0     29872\n",
      "23    29355\n",
      "17    28075\n",
      "12    28017\n",
      "13    27977\n",
      "14    27976\n",
      "16    27972\n",
      "18    27958\n",
      "11    27946\n",
      "10    27918\n",
      "15    27868\n",
      "22    27093\n",
      "9     26673\n",
      "2     26323\n",
      "1     26310\n",
      "4     26125\n",
      "21    25549\n",
      "3     25530\n",
      "19    25410\n",
      "6     25147\n",
      "20    24620\n",
      "5     22995\n",
      "7     22930\n",
      "8     22337\n",
      "Name: hour, dtype: int64\n",
      "  \n",
      "  \n",
      "day : \n",
      "27    70135\n",
      "28    67842\n",
      "29    55222\n",
      "1     41680\n",
      "30    41544\n",
      "16    41359\n",
      "17    41354\n",
      "14    41344\n",
      "15    41332\n",
      "3     41323\n",
      "2     41298\n",
      "13    35496\n",
      "18    33329\n",
      "26    29028\n",
      "4     11627\n",
      "10     2534\n",
      "9      1529\n",
      "Name: day, dtype: int64\n",
      "  \n",
      "  \n",
      "month : \n",
      "12    374205\n",
      "11    263771\n",
      "Name: month, dtype: int64\n",
      "  \n",
      "  \n",
      "source : \n",
      "Financial District         54197\n",
      "Back Bay                   53201\n",
      "Theatre District           53201\n",
      "Boston University          53172\n",
      "North End                  53171\n",
      "Fenway                     53166\n",
      "Northeastern University    53164\n",
      "South Station              53160\n",
      "Haymarket Square           53147\n",
      "West End                   52980\n",
      "Beacon Hill                52841\n",
      "North Station              52576\n",
      "Name: source, dtype: int64\n",
      "  \n",
      "  \n",
      "destination : \n",
      "Financial District         54192\n",
      "Back Bay                   53190\n",
      "Theatre District           53189\n",
      "Haymarket Square           53171\n",
      "Boston University          53171\n",
      "Fenway                     53166\n",
      "Northeastern University    53165\n",
      "North End                  53164\n",
      "South Station              53159\n",
      "West End                   52992\n",
      "Beacon Hill                52840\n",
      "North Station              52577\n",
      "Name: destination, dtype: int64\n",
      "  \n",
      "  \n",
      "price : \n",
      "7.00     52314\n",
      "16.50    44351\n",
      "10.50    40590\n",
      "13.50    33707\n",
      "9.00     30884\n",
      "         ...  \n",
      "89.50        1\n",
      "81.50        1\n",
      "64.50        1\n",
      "87.00        1\n",
      "19.35        1\n",
      "Name: price, Length: 147, dtype: int64\n",
      "  \n",
      "  \n",
      "distance : \n",
      "2.66    8010\n",
      "2.32    7998\n",
      "2.84    7560\n",
      "1.41    6846\n",
      "1.25    6726\n",
      "        ... \n",
      "3.84       6\n",
      "6.33       6\n",
      "7.62       6\n",
      "6.03       6\n",
      "7.86       6\n",
      "Name: distance, Length: 549, dtype: int64\n",
      "  \n",
      "  \n",
      "short_summary : \n",
      " Overcast             201429\n",
      " Mostly Cloudy        134603\n",
      " Partly Cloudy        117226\n",
      " Clear                 80256\n",
      " Light Rain            50488\n",
      " Rain                  21781\n",
      " Possible Drizzle      17176\n",
      " Foggy                  8292\n",
      " Drizzle                6725\n",
      "Name: short_summary, dtype: int64\n",
      "  \n",
      "  \n",
      "windSpeed : \n",
      "8.33    8317\n",
      "8.11    6900\n",
      "8.41    6756\n",
      "4.54    6176\n",
      "8.28    6028\n",
      "        ... \n",
      "0.45     390\n",
      "5.15     338\n",
      "4.58     146\n",
      "4.80     141\n",
      "0.51      77\n",
      "Name: windSpeed, Length: 291, dtype: int64\n",
      "  \n",
      "  \n",
      "temperature : \n",
      "37.92    6033\n",
      "39.41    5182\n",
      "40.13    5177\n",
      "38.42    5032\n",
      "39.35    4881\n",
      "         ... \n",
      "41.52     390\n",
      "35.22     338\n",
      "41.59     233\n",
      "34.51     146\n",
      "29.35     141\n",
      "Name: temperature, Length: 308, dtype: int64\n",
      "  \n",
      "  \n",
      "visibility : \n",
      "10.000    153880\n",
      "9.933       8052\n",
      "9.972       7145\n",
      "9.974       6351\n",
      "9.961       6334\n",
      "           ...  \n",
      "4.675        616\n",
      "9.883        584\n",
      "4.159        390\n",
      "5.138        233\n",
      "1.685         77\n",
      "Name: visibility, Length: 227, dtype: int64\n",
      "  \n",
      "  \n",
      "surge_multiplier : \n",
      "1.00    617001\n",
      "1.25     11085\n",
      "1.50      5065\n",
      "1.75      2420\n",
      "2.00      2239\n",
      "2.50       154\n",
      "3.00        12\n",
      "Name: surge_multiplier, dtype: int64\n",
      "  \n",
      "  \n"
     ]
    }
   ],
   "source": [
    "#mengecek total data pada setiap atribut\n",
    "for col in df.columns:\n",
    "    print(col,': ')\n",
    "    print(df[col].value_counts())\n",
    "    print(\"  \")\n",
    "    print(\"  \")"
   ]
  },
  {
   "cell_type": "code",
   "execution_count": 14,
   "id": "e90221ff",
   "metadata": {},
   "outputs": [
    {
     "data": {
      "text/html": [
       "<div>\n",
       "<style scoped>\n",
       "    .dataframe tbody tr th:only-of-type {\n",
       "        vertical-align: middle;\n",
       "    }\n",
       "\n",
       "    .dataframe tbody tr th {\n",
       "        vertical-align: top;\n",
       "    }\n",
       "\n",
       "    .dataframe thead th {\n",
       "        text-align: right;\n",
       "    }\n",
       "</style>\n",
       "<table border=\"1\" class=\"dataframe\">\n",
       "  <thead>\n",
       "    <tr style=\"text-align: right;\">\n",
       "      <th></th>\n",
       "      <th>cab_type</th>\n",
       "      <th>name</th>\n",
       "      <th>hour</th>\n",
       "      <th>day</th>\n",
       "      <th>month</th>\n",
       "      <th>source</th>\n",
       "      <th>destination</th>\n",
       "      <th>price</th>\n",
       "      <th>distance</th>\n",
       "      <th>short_summary</th>\n",
       "      <th>windSpeed</th>\n",
       "      <th>temperature</th>\n",
       "      <th>visibility</th>\n",
       "      <th>surge_multiplier</th>\n",
       "    </tr>\n",
       "  </thead>\n",
       "  <tbody>\n",
       "    <tr>\n",
       "      <th>0</th>\n",
       "      <td>Lyft</td>\n",
       "      <td>Shared</td>\n",
       "      <td>9</td>\n",
       "      <td>16</td>\n",
       "      <td>12</td>\n",
       "      <td>Haymarket Square</td>\n",
       "      <td>North Station</td>\n",
       "      <td>5.0</td>\n",
       "      <td>0.44</td>\n",
       "      <td>Mostly Cloudy</td>\n",
       "      <td>8.66</td>\n",
       "      <td>42.34</td>\n",
       "      <td>10.000</td>\n",
       "      <td>1.0</td>\n",
       "    </tr>\n",
       "    <tr>\n",
       "      <th>1</th>\n",
       "      <td>Lyft</td>\n",
       "      <td>Lux</td>\n",
       "      <td>2</td>\n",
       "      <td>27</td>\n",
       "      <td>11</td>\n",
       "      <td>Haymarket Square</td>\n",
       "      <td>North Station</td>\n",
       "      <td>11.0</td>\n",
       "      <td>0.44</td>\n",
       "      <td>Rain</td>\n",
       "      <td>11.98</td>\n",
       "      <td>43.58</td>\n",
       "      <td>4.786</td>\n",
       "      <td>1.0</td>\n",
       "    </tr>\n",
       "    <tr>\n",
       "      <th>2</th>\n",
       "      <td>Lyft</td>\n",
       "      <td>Lyft</td>\n",
       "      <td>1</td>\n",
       "      <td>28</td>\n",
       "      <td>11</td>\n",
       "      <td>Haymarket Square</td>\n",
       "      <td>North Station</td>\n",
       "      <td>7.0</td>\n",
       "      <td>0.44</td>\n",
       "      <td>Clear</td>\n",
       "      <td>7.33</td>\n",
       "      <td>38.33</td>\n",
       "      <td>10.000</td>\n",
       "      <td>1.0</td>\n",
       "    </tr>\n",
       "    <tr>\n",
       "      <th>3</th>\n",
       "      <td>Lyft</td>\n",
       "      <td>Lux Black XL</td>\n",
       "      <td>4</td>\n",
       "      <td>30</td>\n",
       "      <td>11</td>\n",
       "      <td>Haymarket Square</td>\n",
       "      <td>North Station</td>\n",
       "      <td>26.0</td>\n",
       "      <td>0.44</td>\n",
       "      <td>Clear</td>\n",
       "      <td>5.28</td>\n",
       "      <td>34.38</td>\n",
       "      <td>10.000</td>\n",
       "      <td>1.0</td>\n",
       "    </tr>\n",
       "    <tr>\n",
       "      <th>4</th>\n",
       "      <td>Lyft</td>\n",
       "      <td>Lyft XL</td>\n",
       "      <td>3</td>\n",
       "      <td>29</td>\n",
       "      <td>11</td>\n",
       "      <td>Haymarket Square</td>\n",
       "      <td>North Station</td>\n",
       "      <td>9.0</td>\n",
       "      <td>0.44</td>\n",
       "      <td>Partly Cloudy</td>\n",
       "      <td>9.14</td>\n",
       "      <td>37.44</td>\n",
       "      <td>10.000</td>\n",
       "      <td>1.0</td>\n",
       "    </tr>\n",
       "    <tr>\n",
       "      <th>...</th>\n",
       "      <td>...</td>\n",
       "      <td>...</td>\n",
       "      <td>...</td>\n",
       "      <td>...</td>\n",
       "      <td>...</td>\n",
       "      <td>...</td>\n",
       "      <td>...</td>\n",
       "      <td>...</td>\n",
       "      <td>...</td>\n",
       "      <td>...</td>\n",
       "      <td>...</td>\n",
       "      <td>...</td>\n",
       "      <td>...</td>\n",
       "      <td>...</td>\n",
       "    </tr>\n",
       "    <tr>\n",
       "      <th>637971</th>\n",
       "      <td>Uber</td>\n",
       "      <td>WAV</td>\n",
       "      <td>23</td>\n",
       "      <td>1</td>\n",
       "      <td>12</td>\n",
       "      <td>West End</td>\n",
       "      <td>North End</td>\n",
       "      <td>9.5</td>\n",
       "      <td>1.00</td>\n",
       "      <td>Partly Cloudy</td>\n",
       "      <td>2.34</td>\n",
       "      <td>37.05</td>\n",
       "      <td>9.785</td>\n",
       "      <td>1.0</td>\n",
       "    </tr>\n",
       "    <tr>\n",
       "      <th>637972</th>\n",
       "      <td>Uber</td>\n",
       "      <td>UberXL</td>\n",
       "      <td>23</td>\n",
       "      <td>1</td>\n",
       "      <td>12</td>\n",
       "      <td>West End</td>\n",
       "      <td>North End</td>\n",
       "      <td>13.0</td>\n",
       "      <td>1.00</td>\n",
       "      <td>Partly Cloudy</td>\n",
       "      <td>2.34</td>\n",
       "      <td>37.05</td>\n",
       "      <td>9.785</td>\n",
       "      <td>1.0</td>\n",
       "    </tr>\n",
       "    <tr>\n",
       "      <th>637973</th>\n",
       "      <td>Uber</td>\n",
       "      <td>UberX</td>\n",
       "      <td>23</td>\n",
       "      <td>1</td>\n",
       "      <td>12</td>\n",
       "      <td>West End</td>\n",
       "      <td>North End</td>\n",
       "      <td>9.5</td>\n",
       "      <td>1.00</td>\n",
       "      <td>Partly Cloudy</td>\n",
       "      <td>2.34</td>\n",
       "      <td>37.05</td>\n",
       "      <td>9.785</td>\n",
       "      <td>1.0</td>\n",
       "    </tr>\n",
       "    <tr>\n",
       "      <th>637974</th>\n",
       "      <td>Uber</td>\n",
       "      <td>Black SUV</td>\n",
       "      <td>23</td>\n",
       "      <td>1</td>\n",
       "      <td>12</td>\n",
       "      <td>West End</td>\n",
       "      <td>North End</td>\n",
       "      <td>27.0</td>\n",
       "      <td>1.00</td>\n",
       "      <td>Partly Cloudy</td>\n",
       "      <td>2.34</td>\n",
       "      <td>37.05</td>\n",
       "      <td>9.785</td>\n",
       "      <td>1.0</td>\n",
       "    </tr>\n",
       "    <tr>\n",
       "      <th>637975</th>\n",
       "      <td>Uber</td>\n",
       "      <td>UberPool</td>\n",
       "      <td>23</td>\n",
       "      <td>1</td>\n",
       "      <td>12</td>\n",
       "      <td>West End</td>\n",
       "      <td>North End</td>\n",
       "      <td>10.0</td>\n",
       "      <td>1.00</td>\n",
       "      <td>Partly Cloudy</td>\n",
       "      <td>2.34</td>\n",
       "      <td>37.05</td>\n",
       "      <td>9.785</td>\n",
       "      <td>1.0</td>\n",
       "    </tr>\n",
       "  </tbody>\n",
       "</table>\n",
       "<p>637976 rows × 14 columns</p>\n",
       "</div>"
      ],
      "text/plain": [
       "       cab_type          name  hour  day  month            source  \\\n",
       "0          Lyft        Shared     9   16     12  Haymarket Square   \n",
       "1          Lyft           Lux     2   27     11  Haymarket Square   \n",
       "2          Lyft          Lyft     1   28     11  Haymarket Square   \n",
       "3          Lyft  Lux Black XL     4   30     11  Haymarket Square   \n",
       "4          Lyft       Lyft XL     3   29     11  Haymarket Square   \n",
       "...         ...           ...   ...  ...    ...               ...   \n",
       "637971     Uber           WAV    23    1     12          West End   \n",
       "637972     Uber        UberXL    23    1     12          West End   \n",
       "637973     Uber         UberX    23    1     12          West End   \n",
       "637974     Uber     Black SUV    23    1     12          West End   \n",
       "637975     Uber      UberPool    23    1     12          West End   \n",
       "\n",
       "          destination  price  distance    short_summary  windSpeed  \\\n",
       "0       North Station    5.0      0.44   Mostly Cloudy        8.66   \n",
       "1       North Station   11.0      0.44            Rain       11.98   \n",
       "2       North Station    7.0      0.44           Clear        7.33   \n",
       "3       North Station   26.0      0.44           Clear        5.28   \n",
       "4       North Station    9.0      0.44   Partly Cloudy        9.14   \n",
       "...               ...    ...       ...              ...        ...   \n",
       "637971      North End    9.5      1.00   Partly Cloudy        2.34   \n",
       "637972      North End   13.0      1.00   Partly Cloudy        2.34   \n",
       "637973      North End    9.5      1.00   Partly Cloudy        2.34   \n",
       "637974      North End   27.0      1.00   Partly Cloudy        2.34   \n",
       "637975      North End   10.0      1.00   Partly Cloudy        2.34   \n",
       "\n",
       "        temperature  visibility  surge_multiplier  \n",
       "0             42.34      10.000               1.0  \n",
       "1             43.58       4.786               1.0  \n",
       "2             38.33      10.000               1.0  \n",
       "3             34.38      10.000               1.0  \n",
       "4             37.44      10.000               1.0  \n",
       "...             ...         ...               ...  \n",
       "637971        37.05       9.785               1.0  \n",
       "637972        37.05       9.785               1.0  \n",
       "637973        37.05       9.785               1.0  \n",
       "637974        37.05       9.785               1.0  \n",
       "637975        37.05       9.785               1.0  \n",
       "\n",
       "[637976 rows x 14 columns]"
      ]
     },
     "execution_count": 14,
     "metadata": {},
     "output_type": "execute_result"
    }
   ],
   "source": [
    "df"
   ]
  },
  {
   "cell_type": "markdown",
   "id": "6cc70535",
   "metadata": {},
   "source": [
    "## Exploratory Data Analysis (EDA)"
   ]
  },
  {
   "cell_type": "code",
   "execution_count": 15,
   "id": "5c0519fd",
   "metadata": {},
   "outputs": [
    {
     "data": {
      "text/html": [
       "<div>\n",
       "<style scoped>\n",
       "    .dataframe tbody tr th:only-of-type {\n",
       "        vertical-align: middle;\n",
       "    }\n",
       "\n",
       "    .dataframe tbody tr th {\n",
       "        vertical-align: top;\n",
       "    }\n",
       "\n",
       "    .dataframe thead th {\n",
       "        text-align: right;\n",
       "    }\n",
       "</style>\n",
       "<table border=\"1\" class=\"dataframe\">\n",
       "  <thead>\n",
       "    <tr style=\"text-align: right;\">\n",
       "      <th></th>\n",
       "      <th>hour</th>\n",
       "      <th>day</th>\n",
       "      <th>month</th>\n",
       "      <th>price</th>\n",
       "      <th>distance</th>\n",
       "      <th>windSpeed</th>\n",
       "      <th>temperature</th>\n",
       "      <th>visibility</th>\n",
       "      <th>surge_multiplier</th>\n",
       "    </tr>\n",
       "  </thead>\n",
       "  <tbody>\n",
       "    <tr>\n",
       "      <th>count</th>\n",
       "      <td>637976.000000</td>\n",
       "      <td>637976.000000</td>\n",
       "      <td>637976.000000</td>\n",
       "      <td>637976.000000</td>\n",
       "      <td>637976.000000</td>\n",
       "      <td>637976.000000</td>\n",
       "      <td>637976.000000</td>\n",
       "      <td>637976.000000</td>\n",
       "      <td>637976.000000</td>\n",
       "    </tr>\n",
       "    <tr>\n",
       "      <th>mean</th>\n",
       "      <td>11.618528</td>\n",
       "      <td>17.797674</td>\n",
       "      <td>11.586550</td>\n",
       "      <td>16.545125</td>\n",
       "      <td>2.189261</td>\n",
       "      <td>6.186795</td>\n",
       "      <td>39.582406</td>\n",
       "      <td>8.469180</td>\n",
       "      <td>1.015068</td>\n",
       "    </tr>\n",
       "    <tr>\n",
       "      <th>std</th>\n",
       "      <td>6.948776</td>\n",
       "      <td>9.982083</td>\n",
       "      <td>0.492452</td>\n",
       "      <td>9.324359</td>\n",
       "      <td>1.135413</td>\n",
       "      <td>3.147856</td>\n",
       "      <td>6.725500</td>\n",
       "      <td>2.601828</td>\n",
       "      <td>0.095422</td>\n",
       "    </tr>\n",
       "    <tr>\n",
       "      <th>min</th>\n",
       "      <td>0.000000</td>\n",
       "      <td>1.000000</td>\n",
       "      <td>11.000000</td>\n",
       "      <td>2.500000</td>\n",
       "      <td>0.020000</td>\n",
       "      <td>0.450000</td>\n",
       "      <td>18.910000</td>\n",
       "      <td>0.717000</td>\n",
       "      <td>1.000000</td>\n",
       "    </tr>\n",
       "    <tr>\n",
       "      <th>25%</th>\n",
       "      <td>6.000000</td>\n",
       "      <td>13.000000</td>\n",
       "      <td>11.000000</td>\n",
       "      <td>9.000000</td>\n",
       "      <td>1.270000</td>\n",
       "      <td>3.410000</td>\n",
       "      <td>36.450000</td>\n",
       "      <td>8.432000</td>\n",
       "      <td>1.000000</td>\n",
       "    </tr>\n",
       "    <tr>\n",
       "      <th>50%</th>\n",
       "      <td>12.000000</td>\n",
       "      <td>17.000000</td>\n",
       "      <td>12.000000</td>\n",
       "      <td>13.500000</td>\n",
       "      <td>2.160000</td>\n",
       "      <td>5.910000</td>\n",
       "      <td>40.490000</td>\n",
       "      <td>9.880000</td>\n",
       "      <td>1.000000</td>\n",
       "    </tr>\n",
       "    <tr>\n",
       "      <th>75%</th>\n",
       "      <td>18.000000</td>\n",
       "      <td>28.000000</td>\n",
       "      <td>12.000000</td>\n",
       "      <td>22.500000</td>\n",
       "      <td>2.930000</td>\n",
       "      <td>8.410000</td>\n",
       "      <td>43.580000</td>\n",
       "      <td>9.996000</td>\n",
       "      <td>1.000000</td>\n",
       "    </tr>\n",
       "    <tr>\n",
       "      <th>max</th>\n",
       "      <td>23.000000</td>\n",
       "      <td>30.000000</td>\n",
       "      <td>12.000000</td>\n",
       "      <td>97.500000</td>\n",
       "      <td>7.860000</td>\n",
       "      <td>15.000000</td>\n",
       "      <td>57.220000</td>\n",
       "      <td>10.000000</td>\n",
       "      <td>3.000000</td>\n",
       "    </tr>\n",
       "  </tbody>\n",
       "</table>\n",
       "</div>"
      ],
      "text/plain": [
       "                hour            day          month          price  \\\n",
       "count  637976.000000  637976.000000  637976.000000  637976.000000   \n",
       "mean       11.618528      17.797674      11.586550      16.545125   \n",
       "std         6.948776       9.982083       0.492452       9.324359   \n",
       "min         0.000000       1.000000      11.000000       2.500000   \n",
       "25%         6.000000      13.000000      11.000000       9.000000   \n",
       "50%        12.000000      17.000000      12.000000      13.500000   \n",
       "75%        18.000000      28.000000      12.000000      22.500000   \n",
       "max        23.000000      30.000000      12.000000      97.500000   \n",
       "\n",
       "            distance      windSpeed    temperature     visibility  \\\n",
       "count  637976.000000  637976.000000  637976.000000  637976.000000   \n",
       "mean        2.189261       6.186795      39.582406       8.469180   \n",
       "std         1.135413       3.147856       6.725500       2.601828   \n",
       "min         0.020000       0.450000      18.910000       0.717000   \n",
       "25%         1.270000       3.410000      36.450000       8.432000   \n",
       "50%         2.160000       5.910000      40.490000       9.880000   \n",
       "75%         2.930000       8.410000      43.580000       9.996000   \n",
       "max         7.860000      15.000000      57.220000      10.000000   \n",
       "\n",
       "       surge_multiplier  \n",
       "count     637976.000000  \n",
       "mean           1.015068  \n",
       "std            0.095422  \n",
       "min            1.000000  \n",
       "25%            1.000000  \n",
       "50%            1.000000  \n",
       "75%            1.000000  \n",
       "max            3.000000  "
      ]
     },
     "execution_count": 15,
     "metadata": {},
     "output_type": "execute_result"
    }
   ],
   "source": [
    "df.describe()"
   ]
  },
  {
   "cell_type": "markdown",
   "id": "13222dcf",
   "metadata": {},
   "source": [
    "dari tabel statistik diperoleh informasi:\n",
    "- Tarif paling murah untuk penggunaan layanan jasa adalah 2.5 Dollar dan paling mahal sebesar 97.5 Dollar\n",
    "- Rata-rata harga penggunaan layanan jasa sekitar 16.5 Dollar\n",
    "- standar deviasi dari harga sebesar 9.32, lebih besar dari pada rata-rata harga. hal ini berarti bahwa data bersifat heterogen karena sebaran data bervariasi."
   ]
  },
  {
   "cell_type": "markdown",
   "id": "76c862e7",
   "metadata": {},
   "source": [
    "## Explore Feature"
   ]
  },
  {
   "cell_type": "markdown",
   "id": "01f111cf",
   "metadata": {},
   "source": [
    "### 1. cab_type (brand transportasi online)"
   ]
  },
  {
   "cell_type": "code",
   "execution_count": 69,
   "id": "ba7d6edb",
   "metadata": {},
   "outputs": [
    {
     "data": {
      "text/plain": [
       "Uber    330568\n",
       "Lyft    307408\n",
       "Name: cab_type, dtype: int64"
      ]
     },
     "execution_count": 69,
     "metadata": {},
     "output_type": "execute_result"
    }
   ],
   "source": [
    "#membuat variabel berisi total dari setiap type\n",
    "df_cab_type = df['cab_type'].value_counts()\n",
    "df_cab_type"
   ]
  },
  {
   "cell_type": "markdown",
   "id": "e4997800",
   "metadata": {},
   "source": [
    "#### Visualisasi cab_type"
   ]
  },
  {
   "cell_type": "code",
   "execution_count": 17,
   "id": "7178e107",
   "metadata": {},
   "outputs": [
    {
     "data": {
      "text/plain": [
       "Text(0.5, 0, 'Jenis Brand Layanan Transportasi Online')"
      ]
     },
     "execution_count": 17,
     "metadata": {},
     "output_type": "execute_result"
    },
    {
     "data": {
      "image/png": "[encoded data removed]",
      "text/plain": [
       "<Figure size 432x432 with 1 Axes>"
      ]
     },
     "metadata": {
      "needs_background": "light"
     },
     "output_type": "display_data"
    }
   ],
   "source": [
    "# bar chart\n",
    "df_cab_type.plot(kind='bar', figsize=(6,6), color=[\"orange\", \"magenta\"])\n",
    "\n",
    "plt.title('Histogram Penggunaan Layanan Transportasi Online')\n",
    "plt.ylabel('Jumlah Penggunaan')\n",
    "plt.xlabel('Jenis Brand Layanan Transportasi Online')"
   ]
  },
  {
   "cell_type": "markdown",
   "id": "ef12cf01",
   "metadata": {},
   "source": [
    "**Interpretasi:**\n",
    "\n",
    "pada plot yang dihasilkan terlihat bahwa pengguna jasa uber lebih banyak dibandingkan lyft dimana masing masing memiliki jumlah total 330568 penumpang Uber dan 307408 penumpang lyft"
   ]
  },
  {
   "cell_type": "code",
   "execution_count": 18,
   "id": "b6535c9c",
   "metadata": {},
   "outputs": [
    {
     "data": {
      "image/png": "[encoded data removed]",
      "text/plain": [
       "<Figure size 504x576 with 1 Axes>"
      ]
     },
     "metadata": {},
     "output_type": "display_data"
    }
   ],
   "source": [
    "# Pie Chart\n",
    "df_cab_type.plot(kind='pie',\n",
    "                figsize=(7,8),\n",
    "                autopct='%1.1f%%',  #add in percentages\n",
    "                startangle=90,      #start angle 90 derajat\n",
    "                colors=['steelblue', 'cornsilk'],\n",
    "        )\n",
    "plt.title('Persentase Uber Vs Lyft')\n",
    "plt.legend(labels = df_cab_type.index, loc='lower right')\n",
    "plt.show()"
   ]
  },
  {
   "cell_type": "markdown",
   "id": "40878826",
   "metadata": {},
   "source": [
    "**Interpretasi:**\n",
    "\n",
    "Pada pie charts yang dihasilkan, diketahui bahwa persentase penggunaan Uber sebesar 51.8% dan Lyft sebesar 48.2%. hal ini semakin menunjukkan bahwa penggunaan Uber lebih diminati warga dibandingkan Lyft"
   ]
  },
  {
   "cell_type": "markdown",
   "id": "3132cb4a",
   "metadata": {},
   "source": [
    "### 2. name (jenis mobil)"
   ]
  },
  {
   "cell_type": "code",
   "execution_count": 19,
   "id": "628ab6e1",
   "metadata": {},
   "outputs": [
    {
     "data": {
      "text/html": [
       "<div>\n",
       "<style scoped>\n",
       "    .dataframe tbody tr th:only-of-type {\n",
       "        vertical-align: middle;\n",
       "    }\n",
       "\n",
       "    .dataframe tbody tr th {\n",
       "        vertical-align: top;\n",
       "    }\n",
       "\n",
       "    .dataframe thead th {\n",
       "        text-align: right;\n",
       "    }\n",
       "</style>\n",
       "<table border=\"1\" class=\"dataframe\">\n",
       "  <thead>\n",
       "    <tr style=\"text-align: right;\">\n",
       "      <th></th>\n",
       "      <th></th>\n",
       "      <th>name</th>\n",
       "    </tr>\n",
       "    <tr>\n",
       "      <th>cab_type</th>\n",
       "      <th>name</th>\n",
       "      <th></th>\n",
       "    </tr>\n",
       "  </thead>\n",
       "  <tbody>\n",
       "    <tr>\n",
       "      <th rowspan=\"6\" valign=\"top\">Lyft</th>\n",
       "      <th>Lux</th>\n",
       "      <td>51235</td>\n",
       "    </tr>\n",
       "    <tr>\n",
       "      <th>Lux Black</th>\n",
       "      <td>51235</td>\n",
       "    </tr>\n",
       "    <tr>\n",
       "      <th>Lux Black XL</th>\n",
       "      <td>51235</td>\n",
       "    </tr>\n",
       "    <tr>\n",
       "      <th>Lyft</th>\n",
       "      <td>51235</td>\n",
       "    </tr>\n",
       "    <tr>\n",
       "      <th>Lyft XL</th>\n",
       "      <td>51235</td>\n",
       "    </tr>\n",
       "    <tr>\n",
       "      <th>Shared</th>\n",
       "      <td>51233</td>\n",
       "    </tr>\n",
       "    <tr>\n",
       "      <th rowspan=\"6\" valign=\"top\">Uber</th>\n",
       "      <th>Black SUV</th>\n",
       "      <td>55096</td>\n",
       "    </tr>\n",
       "    <tr>\n",
       "      <th>UberXL</th>\n",
       "      <td>55096</td>\n",
       "    </tr>\n",
       "    <tr>\n",
       "      <th>WAV</th>\n",
       "      <td>55096</td>\n",
       "    </tr>\n",
       "    <tr>\n",
       "      <th>Black</th>\n",
       "      <td>55095</td>\n",
       "    </tr>\n",
       "    <tr>\n",
       "      <th>UberX</th>\n",
       "      <td>55094</td>\n",
       "    </tr>\n",
       "    <tr>\n",
       "      <th>UberPool</th>\n",
       "      <td>55091</td>\n",
       "    </tr>\n",
       "  </tbody>\n",
       "</table>\n",
       "</div>"
      ],
      "text/plain": [
       "                        name\n",
       "cab_type name               \n",
       "Lyft     Lux           51235\n",
       "         Lux Black     51235\n",
       "         Lux Black XL  51235\n",
       "         Lyft          51235\n",
       "         Lyft XL       51235\n",
       "         Shared        51233\n",
       "Uber     Black SUV     55096\n",
       "         UberXL        55096\n",
       "         WAV           55096\n",
       "         Black         55095\n",
       "         UberX         55094\n",
       "         UberPool      55091"
      ]
     },
     "execution_count": 19,
     "metadata": {},
     "output_type": "execute_result"
    }
   ],
   "source": [
    "#membuat variabel name\n",
    "df_name = pd.DataFrame(df.groupby(['cab_type'])['name'].value_counts())\n",
    "df_name"
   ]
  },
  {
   "cell_type": "code",
   "execution_count": 20,
   "id": "76f1d262",
   "metadata": {},
   "outputs": [
    {
     "data": {
      "image/png": "[encoded data removed]",
      "text/plain": [
       "<Figure size 720x720 with 1 Axes>"
      ]
     },
     "metadata": {
      "needs_background": "light"
     },
     "output_type": "display_data"
    }
   ],
   "source": [
    "# Horizontal bar plot\n",
    "df_name.plot(kind='barh', figsize=(10,10), color='lightblue')\n",
    "plt.xlabel('Jumlah Pengguna')\n",
    "plt.ylabel('Jenis Mobil Transportasi')\n",
    "plt.show()"
   ]
  },
  {
   "cell_type": "markdown",
   "id": "c8981e74",
   "metadata": {},
   "source": [
    "**Interpretasi:**\n",
    "\n",
    "Bar chart yang dihasilkan menunjukkan bahwa dalam segi jenis mobil yang dilayankan Uber masih lebih unggul dibandingkan dengan Lyft."
   ]
  },
  {
   "cell_type": "markdown",
   "id": "320ea71d",
   "metadata": {},
   "source": [
    "### 3. Month (Bulan)"
   ]
  },
  {
   "cell_type": "code",
   "execution_count": 21,
   "id": "f3ee9c07",
   "metadata": {},
   "outputs": [
    {
     "data": {
      "text/plain": [
       "12    374205\n",
       "11    263771\n",
       "Name: month, dtype: int64"
      ]
     },
     "execution_count": 21,
     "metadata": {},
     "output_type": "execute_result"
    }
   ],
   "source": [
    "#membuat variabel month\n",
    "df_month = df['month'].value_counts()\n",
    "df_month"
   ]
  },
  {
   "cell_type": "code",
   "execution_count": 22,
   "id": "bff24bcd",
   "metadata": {},
   "outputs": [
    {
     "data": {
      "image/png": "[encoded data removed]",
      "text/plain": [
       "<Figure size 576x720 with 1 Axes>"
      ]
     },
     "metadata": {},
     "output_type": "display_data"
    }
   ],
   "source": [
    "# visualisasi month dalam bentuk pie chart\n",
    "df_month.plot(kind='pie',\n",
    "                figsize=(8,10),\n",
    "                autopct='%1.1f%%',  #add in percentages\n",
    "                startangle=90,      #start angle 90 derajat\n",
    "                colors=['peachpuff', 'plum'],\n",
    "        )\n",
    "plt.title('Persentase Uber Vs Lyft')\n",
    "plt.legend(labels=df_month.index, loc='upper left')\n",
    "plt.show()"
   ]
  },
  {
   "cell_type": "markdown",
   "id": "607a2817",
   "metadata": {},
   "source": [
    "**Interpretasi:**\n",
    "\n",
    "dari hasil pie chart diatas, diketahui bahwa pada atribut month hanya terdapat bulan 11 (November) dan 12 (Desember). pada bulan November memiliki persentase penggunaan sebesar 41.3%, sedangkan Desember sebesar 58.7%. hal ini terjadi karena pada bulan Desember terdapat perayaan hari raya natal dimana sebagian besar warga AS ikut merayakan dan tahun baru yang bersamaan dengan pergantian tahun ajaran baru (anak sekolah) sehingga semua orang memiliki waktu liburan dan membutuhkan jasa layanan transportasi untuk melakukan suatu perjalanan."
   ]
  },
  {
   "cell_type": "markdown",
   "id": "76882783",
   "metadata": {},
   "source": [
    "## Data Preprocessing"
   ]
  },
  {
   "cell_type": "markdown",
   "id": "b6a08556",
   "metadata": {},
   "source": [
    "### Encoding\n"
   ]
  },
  {
   "cell_type": "code",
   "execution_count": 10,
   "id": "8139232c",
   "metadata": {},
   "outputs": [
    {
     "name": "stdout",
     "output_type": "stream",
     "text": [
      "<class 'pandas.core.frame.DataFrame'>\n",
      "RangeIndex: 637976 entries, 0 to 637975\n",
      "Data columns (total 14 columns):\n",
      " #   Column            Non-Null Count   Dtype  \n",
      "---  ------            --------------   -----  \n",
      " 0   cab_type          637976 non-null  object \n",
      " 1   name              637976 non-null  object \n",
      " 2   hour              637976 non-null  int64  \n",
      " 3   day               637976 non-null  int64  \n",
      " 4   month             637976 non-null  int64  \n",
      " 5   source            637976 non-null  object \n",
      " 6   destination       637976 non-null  object \n",
      " 7   price             637976 non-null  float64\n",
      " 8   distance          637976 non-null  float64\n",
      " 9   short_summary     637976 non-null  object \n",
      " 10  windSpeed         637976 non-null  float64\n",
      " 11  temperature       637976 non-null  float64\n",
      " 12  visibility        637976 non-null  float64\n",
      " 13  surge_multiplier  637976 non-null  float64\n",
      "dtypes: float64(6), int64(3), object(5)\n",
      "memory usage: 68.1+ MB\n"
     ]
    }
   ],
   "source": [
    "df.info()"
   ]
  },
  {
   "cell_type": "code",
   "execution_count": 6,
   "id": "a43be117",
   "metadata": {
    "scrolled": true
   },
   "outputs": [],
   "source": [
    "#Melakukan encoding dengan Label Encoder pada atribut yang memiliki tipe data Object.\n",
    "class MultiColumnLabelEncoder:\n",
    "    def __init__(self, columns=None):\n",
    "        self.columns = columns\n",
    "\n",
    "    def fit(self, X, y=None):\n",
    "        return self\n",
    "\n",
    "    def transform(self, X):\n",
    "        output = X.copy()\n",
    "        if self.columns is not None:\n",
    "            for col in self.columns:\n",
    "                output[col] = LabelEncoder().fit_transform(output[col])\n",
    "        else:\n",
    "            for colname, col in output.iteritems():\n",
    "                output[colname] = LabelEncoder().fit_transform(col)\n",
    "        return output\n",
    "\n",
    "    def fit_transform(self, X, y=None):\n",
    "        return self.fit(X, y).transform(X)\n",
    "\n",
    "\n",
    "encoding_pipeline = Pipeline([\n",
    "    ('encoding', MultiColumnLabelEncoder(columns:=['cab_type',\n",
    "                                                   'name',\n",
    "                                                   'hour',\n",
    "                                                   'day',\n",
    "                                                   'month',\n",
    "                                                   'source',\n",
    "                                                   'destination',\n",
    "                                                   'short_summary',\n",
    "                                                   'windSpeed',\n",
    "                                                   'temperature',\n",
    "                                                   'visibility',\n",
    "                                                   'surge_multiplier']))\n",
    "])\n",
    "\n",
    "#Membuat variabel df_rfe untuk menampung hasil encode\n",
    "df_rfe = encoding_pipeline.fit_transform(df)"
   ]
  },
  {
   "cell_type": "code",
   "execution_count": 7,
   "id": "887ae680",
   "metadata": {
    "scrolled": true
   },
   "outputs": [
    {
     "data": {
      "text/html": [
       "<div>\n",
       "<style scoped>\n",
       "    .dataframe tbody tr th:only-of-type {\n",
       "        vertical-align: middle;\n",
       "    }\n",
       "\n",
       "    .dataframe tbody tr th {\n",
       "        vertical-align: top;\n",
       "    }\n",
       "\n",
       "    .dataframe thead th {\n",
       "        text-align: right;\n",
       "    }\n",
       "</style>\n",
       "<table border=\"1\" class=\"dataframe\">\n",
       "  <thead>\n",
       "    <tr style=\"text-align: right;\">\n",
       "      <th></th>\n",
       "      <th>cab_type</th>\n",
       "      <th>name</th>\n",
       "      <th>hour</th>\n",
       "      <th>day</th>\n",
       "      <th>month</th>\n",
       "      <th>source</th>\n",
       "      <th>destination</th>\n",
       "      <th>price</th>\n",
       "      <th>distance</th>\n",
       "      <th>short_summary</th>\n",
       "      <th>windSpeed</th>\n",
       "      <th>temperature</th>\n",
       "      <th>visibility</th>\n",
       "      <th>surge_multiplier</th>\n",
       "    </tr>\n",
       "  </thead>\n",
       "  <tbody>\n",
       "    <tr>\n",
       "      <th>0</th>\n",
       "      <td>0</td>\n",
       "      <td>7</td>\n",
       "      <td>9</td>\n",
       "      <td>9</td>\n",
       "      <td>1</td>\n",
       "      <td>5</td>\n",
       "      <td>7</td>\n",
       "      <td>5.0</td>\n",
       "      <td>0.44</td>\n",
       "      <td>4</td>\n",
       "      <td>231</td>\n",
       "      <td>205</td>\n",
       "      <td>226</td>\n",
       "      <td>0</td>\n",
       "    </tr>\n",
       "    <tr>\n",
       "      <th>1</th>\n",
       "      <td>0</td>\n",
       "      <td>2</td>\n",
       "      <td>2</td>\n",
       "      <td>13</td>\n",
       "      <td>0</td>\n",
       "      <td>5</td>\n",
       "      <td>7</td>\n",
       "      <td>11.0</td>\n",
       "      <td>0.44</td>\n",
       "      <td>8</td>\n",
       "      <td>274</td>\n",
       "      <td>225</td>\n",
       "      <td>57</td>\n",
       "      <td>0</td>\n",
       "    </tr>\n",
       "    <tr>\n",
       "      <th>2</th>\n",
       "      <td>0</td>\n",
       "      <td>5</td>\n",
       "      <td>1</td>\n",
       "      <td>14</td>\n",
       "      <td>0</td>\n",
       "      <td>5</td>\n",
       "      <td>7</td>\n",
       "      <td>7.0</td>\n",
       "      <td>0.44</td>\n",
       "      <td>0</td>\n",
       "      <td>197</td>\n",
       "      <td>113</td>\n",
       "      <td>226</td>\n",
       "      <td>0</td>\n",
       "    </tr>\n",
       "    <tr>\n",
       "      <th>3</th>\n",
       "      <td>0</td>\n",
       "      <td>4</td>\n",
       "      <td>4</td>\n",
       "      <td>16</td>\n",
       "      <td>0</td>\n",
       "      <td>5</td>\n",
       "      <td>7</td>\n",
       "      <td>26.0</td>\n",
       "      <td>0.44</td>\n",
       "      <td>0</td>\n",
       "      <td>141</td>\n",
       "      <td>66</td>\n",
       "      <td>226</td>\n",
       "      <td>0</td>\n",
       "    </tr>\n",
       "    <tr>\n",
       "      <th>4</th>\n",
       "      <td>0</td>\n",
       "      <td>6</td>\n",
       "      <td>3</td>\n",
       "      <td>15</td>\n",
       "      <td>0</td>\n",
       "      <td>5</td>\n",
       "      <td>7</td>\n",
       "      <td>9.0</td>\n",
       "      <td>0.44</td>\n",
       "      <td>6</td>\n",
       "      <td>240</td>\n",
       "      <td>99</td>\n",
       "      <td>226</td>\n",
       "      <td>0</td>\n",
       "    </tr>\n",
       "  </tbody>\n",
       "</table>\n",
       "</div>"
      ],
      "text/plain": [
       "   cab_type  name  hour  day  month  source  destination  price  distance  \\\n",
       "0         0     7     9    9      1       5            7    5.0      0.44   \n",
       "1         0     2     2   13      0       5            7   11.0      0.44   \n",
       "2         0     5     1   14      0       5            7    7.0      0.44   \n",
       "3         0     4     4   16      0       5            7   26.0      0.44   \n",
       "4         0     6     3   15      0       5            7    9.0      0.44   \n",
       "\n",
       "   short_summary  windSpeed  temperature  visibility  surge_multiplier  \n",
       "0              4        231          205         226                 0  \n",
       "1              8        274          225          57                 0  \n",
       "2              0        197          113         226                 0  \n",
       "3              0        141           66         226                 0  \n",
       "4              6        240           99         226                 0  "
      ]
     },
     "execution_count": 7,
     "metadata": {},
     "output_type": "execute_result"
    }
   ],
   "source": [
    "#menampilkan df_rfe teratas\n",
    "df_rfe.head()"
   ]
  },
  {
   "cell_type": "code",
   "execution_count": 13,
   "id": "2470b33f",
   "metadata": {
    "scrolled": true
   },
   "outputs": [
    {
     "name": "stdout",
     "output_type": "stream",
     "text": [
      "<class 'pandas.core.frame.DataFrame'>\n",
      "RangeIndex: 637976 entries, 0 to 637975\n",
      "Data columns (total 14 columns):\n",
      " #   Column            Non-Null Count   Dtype  \n",
      "---  ------            --------------   -----  \n",
      " 0   cab_type          637976 non-null  int32  \n",
      " 1   name              637976 non-null  int32  \n",
      " 2   hour              637976 non-null  int64  \n",
      " 3   day               637976 non-null  int64  \n",
      " 4   month             637976 non-null  int64  \n",
      " 5   source            637976 non-null  int32  \n",
      " 6   destination       637976 non-null  int32  \n",
      " 7   price             637976 non-null  float64\n",
      " 8   distance          637976 non-null  float64\n",
      " 9   short_summary     637976 non-null  int32  \n",
      " 10  windSpeed         637976 non-null  int64  \n",
      " 11  temperature       637976 non-null  int64  \n",
      " 12  visibility        637976 non-null  int64  \n",
      " 13  surge_multiplier  637976 non-null  int64  \n",
      "dtypes: float64(2), int32(5), int64(7)\n",
      "memory usage: 56.0 MB\n"
     ]
    }
   ],
   "source": [
    "df_rfe.info()"
   ]
  },
  {
   "cell_type": "markdown",
   "id": "bfce3375",
   "metadata": {},
   "source": [
    "### Feature Selection\n",
    "Mengukur Pengaruh atribut pada label sesuai jenis atribut"
   ]
  },
  {
   "cell_type": "markdown",
   "id": "ca688b39",
   "metadata": {},
   "source": [
    "#### Correlation Matrix"
   ]
  },
  {
   "cell_type": "code",
   "execution_count": 14,
   "id": "9f77b785",
   "metadata": {},
   "outputs": [
    {
     "data": {
      "image/png": "[encoded data removed]",
      "text/plain": [
       "<Figure size 1152x648 with 2 Axes>"
      ]
     },
     "metadata": {
      "needs_background": "light"
     },
     "output_type": "display_data"
    }
   ],
   "source": [
    "plt.figure(figsize=(16,9))\n",
    "sns.heatmap(df_rfe.corr(), vmin=-1, vmax=1, annot=True, cmap='summer')\n",
    "plt.show()"
   ]
  },
  {
   "cell_type": "markdown",
   "id": "0e321b00",
   "metadata": {},
   "source": [
    "**Interpretasi:**\n",
    "\n",
    "berdasarkan matrix korelasi antara feature dan label (price), diketahui bahwa **temperature**, **month**, **day**, dan **hour** memiliki **nilai korelasi sangat kecil** terhadap atribut price, artinya fitur tersebut tidak terlalu berpengaruh terhadap label (**price**). sehingga atribut tersebut perlu dihilangkan dari dataset"
   ]
  },
  {
   "cell_type": "markdown",
   "id": "4788d429",
   "metadata": {},
   "source": [
    "#### Menghapus Feature yang tidak berkepentingan terhadap label\n",
    "selanjutnya menghapus beberapa atribut feature yang memiliki nilai korelasi yang sangat kecil karena atribut tersebut tidak memiliki kepentingan terhadap target (label)."
   ]
  },
  {
   "cell_type": "code",
   "execution_count": 8,
   "id": "2c5b53f8",
   "metadata": {
    "scrolled": true
   },
   "outputs": [
    {
     "data": {
      "text/html": [
       "<div>\n",
       "<style scoped>\n",
       "    .dataframe tbody tr th:only-of-type {\n",
       "        vertical-align: middle;\n",
       "    }\n",
       "\n",
       "    .dataframe tbody tr th {\n",
       "        vertical-align: top;\n",
       "    }\n",
       "\n",
       "    .dataframe thead th {\n",
       "        text-align: right;\n",
       "    }\n",
       "</style>\n",
       "<table border=\"1\" class=\"dataframe\">\n",
       "  <thead>\n",
       "    <tr style=\"text-align: right;\">\n",
       "      <th></th>\n",
       "      <th>cab_type</th>\n",
       "      <th>name</th>\n",
       "      <th>source</th>\n",
       "      <th>destination</th>\n",
       "      <th>price</th>\n",
       "      <th>distance</th>\n",
       "      <th>short_summary</th>\n",
       "      <th>windSpeed</th>\n",
       "      <th>visibility</th>\n",
       "      <th>surge_multiplier</th>\n",
       "    </tr>\n",
       "  </thead>\n",
       "  <tbody>\n",
       "    <tr>\n",
       "      <th>0</th>\n",
       "      <td>0</td>\n",
       "      <td>7</td>\n",
       "      <td>5</td>\n",
       "      <td>7</td>\n",
       "      <td>5.0</td>\n",
       "      <td>0.44</td>\n",
       "      <td>4</td>\n",
       "      <td>231</td>\n",
       "      <td>226</td>\n",
       "      <td>0</td>\n",
       "    </tr>\n",
       "    <tr>\n",
       "      <th>1</th>\n",
       "      <td>0</td>\n",
       "      <td>2</td>\n",
       "      <td>5</td>\n",
       "      <td>7</td>\n",
       "      <td>11.0</td>\n",
       "      <td>0.44</td>\n",
       "      <td>8</td>\n",
       "      <td>274</td>\n",
       "      <td>57</td>\n",
       "      <td>0</td>\n",
       "    </tr>\n",
       "    <tr>\n",
       "      <th>2</th>\n",
       "      <td>0</td>\n",
       "      <td>5</td>\n",
       "      <td>5</td>\n",
       "      <td>7</td>\n",
       "      <td>7.0</td>\n",
       "      <td>0.44</td>\n",
       "      <td>0</td>\n",
       "      <td>197</td>\n",
       "      <td>226</td>\n",
       "      <td>0</td>\n",
       "    </tr>\n",
       "    <tr>\n",
       "      <th>3</th>\n",
       "      <td>0</td>\n",
       "      <td>4</td>\n",
       "      <td>5</td>\n",
       "      <td>7</td>\n",
       "      <td>26.0</td>\n",
       "      <td>0.44</td>\n",
       "      <td>0</td>\n",
       "      <td>141</td>\n",
       "      <td>226</td>\n",
       "      <td>0</td>\n",
       "    </tr>\n",
       "    <tr>\n",
       "      <th>4</th>\n",
       "      <td>0</td>\n",
       "      <td>6</td>\n",
       "      <td>5</td>\n",
       "      <td>7</td>\n",
       "      <td>9.0</td>\n",
       "      <td>0.44</td>\n",
       "      <td>6</td>\n",
       "      <td>240</td>\n",
       "      <td>226</td>\n",
       "      <td>0</td>\n",
       "    </tr>\n",
       "  </tbody>\n",
       "</table>\n",
       "</div>"
      ],
      "text/plain": [
       "   cab_type  name  source  destination  price  distance  short_summary  \\\n",
       "0         0     7       5            7    5.0      0.44              4   \n",
       "1         0     2       5            7   11.0      0.44              8   \n",
       "2         0     5       5            7    7.0      0.44              0   \n",
       "3         0     4       5            7   26.0      0.44              0   \n",
       "4         0     6       5            7    9.0      0.44              6   \n",
       "\n",
       "   windSpeed  visibility  surge_multiplier  \n",
       "0        231         226                 0  \n",
       "1        274          57                 0  \n",
       "2        197         226                 0  \n",
       "3        141         226                 0  \n",
       "4        240         226                 0  "
      ]
     },
     "execution_count": 8,
     "metadata": {},
     "output_type": "execute_result"
    }
   ],
   "source": [
    "# menghapus feature yang tidak berkepentingan\n",
    "df_fix = df_rfe.drop(columns=['temperature', 'month', 'day', 'hour'])\n",
    "df_fix.head()"
   ]
  },
  {
   "cell_type": "markdown",
   "id": "38d9e074",
   "metadata": {},
   "source": [
    "### Mendefinisikan X dan Y"
   ]
  },
  {
   "cell_type": "code",
   "execution_count": 9,
   "id": "59a51424",
   "metadata": {
    "scrolled": true
   },
   "outputs": [
    {
     "name": "stdout",
     "output_type": "stream",
     "text": [
      "variabel X: ['cab_type', 'name', 'source', 'destination', 'distance', 'short_summary', 'windSpeed', 'visibility', 'surge_multiplier']\n",
      "Variabel Y: price\n"
     ]
    }
   ],
   "source": [
    "X = df_fix.drop(['price'], axis=1)\n",
    "Y = df_fix['price']\n",
    "print('variabel X:', X.columns.tolist())\n",
    "print('Variabel Y:', Y.name)"
   ]
  },
  {
   "cell_type": "markdown",
   "id": "4853ab4a",
   "metadata": {},
   "source": [
    "sampai tahap ini atribut feature (X) dan label (Y) telah siap untuk dilakukan pemodelan."
   ]
  },
  {
   "cell_type": "markdown",
   "id": "268ba7b7",
   "metadata": {},
   "source": [
    "## Modelling\n",
    "setelah dilakukan data cleaning dan data preprocessing, maka diperoleh data feature dan data label untuk selanjutnya digunakan untuk melatih model. feature yang digunakan diantaranya:\n",
    "- cab_type\n",
    "- name\n",
    "- source\n",
    "- destination\n",
    "- distance\n",
    "- short_summary\n",
    "- windSpeed\n",
    "- visibility\n",
    "- surge_multiplier\n",
    "\n",
    "Algoritma yang digunakan dalam pemodelan ini adalah **Linear Regression**"
   ]
  },
  {
   "cell_type": "markdown",
   "id": "4990b9d9",
   "metadata": {},
   "source": [
    "### Split data"
   ]
  },
  {
   "cell_type": "code",
   "execution_count": 10,
   "id": "3a9b7b6e",
   "metadata": {},
   "outputs": [],
   "source": [
    "#membagi data training dan data testing\n",
    "X_train, X_test, Y_train, Y_test = train_test_split(X, Y,\n",
    "                                                   test_size=0.2, random_state=10)"
   ]
  },
  {
   "cell_type": "code",
   "execution_count": 11,
   "id": "dfdf0cc9",
   "metadata": {},
   "outputs": [],
   "source": [
    "# membagi data training menjadi data training dan data validation untuk model inference\n",
    "X_train, X_val, Y_train, Y_val = train_test_split(X_train, Y_train,\n",
    "                                                   test_size=0.1, random_state=10)"
   ]
  },
  {
   "cell_type": "code",
   "execution_count": 27,
   "id": "61487956",
   "metadata": {},
   "outputs": [],
   "source": [
    "# standarisasi data\n",
    "scaler = StandardScaler()\n",
    "X_train_scaled = scaler.fit_transform(X_train)\n",
    "X_test_scaled = scaler.transform(X_test)\n",
    "X_val_scaled = scaler.transform(X_val)"
   ]
  },
  {
   "cell_type": "markdown",
   "id": "ec72874c",
   "metadata": {},
   "source": [
    "### Pelatihan Model"
   ]
  },
  {
   "cell_type": "code",
   "execution_count": 13,
   "id": "880a3d62",
   "metadata": {},
   "outputs": [],
   "source": [
    "# melatih model dengan data training\n",
    "LR = LinearRegression()\n",
    "model = LR.fit(X_train_scaled, Y_train)"
   ]
  },
  {
   "cell_type": "code",
   "execution_count": 14,
   "id": "01925ce6",
   "metadata": {},
   "outputs": [],
   "source": [
    "Y_predict = model.predict(X_test_scaled)"
   ]
  },
  {
   "cell_type": "code",
   "execution_count": 14,
   "id": "44710045",
   "metadata": {
    "scrolled": true
   },
   "outputs": [
    {
     "data": {
      "text/html": [
       "<table class=\"simpletable\">\n",
       "<caption>OLS Regression Results</caption>\n",
       "<tr>\n",
       "  <th>Dep. Variable:</th>          <td>price</td>      <th>  R-squared (uncentered):</th>       <td>   0.850</td>  \n",
       "</tr>\n",
       "<tr>\n",
       "  <th>Model:</th>                   <td>OLS</td>       <th>  Adj. R-squared (uncentered):</th>  <td>   0.850</td>  \n",
       "</tr>\n",
       "<tr>\n",
       "  <th>Method:</th>             <td>Least Squares</td>  <th>  F-statistic:       </th>           <td>4.007e+05</td> \n",
       "</tr>\n",
       "<tr>\n",
       "  <th>Date:</th>             <td>Thu, 01 Dec 2022</td> <th>  Prob (F-statistic):</th>            <td>  0.00</td>   \n",
       "</tr>\n",
       "<tr>\n",
       "  <th>Time:</th>                 <td>07:46:21</td>     <th>  Log-Likelihood:    </th>          <td>-2.1790e+06</td>\n",
       "</tr>\n",
       "<tr>\n",
       "  <th>No. Observations:</th>      <td>637976</td>      <th>  AIC:               </th>           <td>4.358e+06</td> \n",
       "</tr>\n",
       "<tr>\n",
       "  <th>Df Residuals:</th>          <td>637967</td>      <th>  BIC:               </th>           <td>4.358e+06</td> \n",
       "</tr>\n",
       "<tr>\n",
       "  <th>Df Model:</th>              <td>     9</td>      <th>                     </th>               <td> </td>     \n",
       "</tr>\n",
       "<tr>\n",
       "  <th>Covariance Type:</th>      <td>nonrobust</td>    <th>                     </th>               <td> </td>     \n",
       "</tr>\n",
       "</table>\n",
       "<table class=\"simpletable\">\n",
       "<tr>\n",
       "          <td></td>            <th>coef</th>     <th>std err</th>      <th>t</th>      <th>P>|t|</th>  <th>[0.025</th>    <th>0.975]</th>  \n",
       "</tr>\n",
       "<tr>\n",
       "  <th>cab_type</th>         <td>    3.2655</td> <td>    0.019</td> <td>  169.035</td> <td> 0.000</td> <td>    3.228</td> <td>    3.303</td>\n",
       "</tr>\n",
       "<tr>\n",
       "  <th>name</th>             <td>   -1.3459</td> <td>    0.003</td> <td> -506.975</td> <td> 0.000</td> <td>   -1.351</td> <td>   -1.341</td>\n",
       "</tr>\n",
       "<tr>\n",
       "  <th>source</th>           <td>    0.3956</td> <td>    0.003</td> <td>  157.876</td> <td> 0.000</td> <td>    0.391</td> <td>    0.401</td>\n",
       "</tr>\n",
       "<tr>\n",
       "  <th>destination</th>      <td>    0.4023</td> <td>    0.002</td> <td>  161.047</td> <td> 0.000</td> <td>    0.397</td> <td>    0.407</td>\n",
       "</tr>\n",
       "<tr>\n",
       "  <th>distance</th>         <td>    4.2244</td> <td>    0.007</td> <td>  576.044</td> <td> 0.000</td> <td>    4.210</td> <td>    4.239</td>\n",
       "</tr>\n",
       "<tr>\n",
       "  <th>short_summary</th>    <td>    0.7484</td> <td>    0.004</td> <td>  174.041</td> <td> 0.000</td> <td>    0.740</td> <td>    0.757</td>\n",
       "</tr>\n",
       "<tr>\n",
       "  <th>windSpeed</th>        <td>    0.0100</td> <td>    0.000</td> <td>   89.222</td> <td> 0.000</td> <td>    0.010</td> <td>    0.010</td>\n",
       "</tr>\n",
       "<tr>\n",
       "  <th>visibility</th>       <td>    0.0198</td> <td>    0.000</td> <td>  169.549</td> <td> 0.000</td> <td>    0.020</td> <td>    0.020</td>\n",
       "</tr>\n",
       "<tr>\n",
       "  <th>surge_multiplier</th> <td>    5.8974</td> <td>    0.025</td> <td>  238.559</td> <td> 0.000</td> <td>    5.849</td> <td>    5.946</td>\n",
       "</tr>\n",
       "</table>\n",
       "<table class=\"simpletable\">\n",
       "<tr>\n",
       "  <th>Omnibus:</th>       <td>29205.487</td> <th>  Durbin-Watson:     </th> <td>   1.850</td> \n",
       "</tr>\n",
       "<tr>\n",
       "  <th>Prob(Omnibus):</th>  <td> 0.000</td>   <th>  Jarque-Bera (JB):  </th> <td>34652.947</td>\n",
       "</tr>\n",
       "<tr>\n",
       "  <th>Skew:</th>           <td> 0.512</td>   <th>  Prob(JB):          </th> <td>    0.00</td> \n",
       "</tr>\n",
       "<tr>\n",
       "  <th>Kurtosis:</th>       <td> 3.507</td>   <th>  Cond. No.          </th> <td>    620.</td> \n",
       "</tr>\n",
       "</table><br/><br/>Notes:<br/>[1] R² is computed without centering (uncentered) since the model does not contain a constant.<br/>[2] Standard Errors assume that the covariance matrix of the errors is correctly specified."
      ],
      "text/plain": [
       "<class 'statsmodels.iolib.summary.Summary'>\n",
       "\"\"\"\n",
       "                                 OLS Regression Results                                \n",
       "=======================================================================================\n",
       "Dep. Variable:                  price   R-squared (uncentered):                   0.850\n",
       "Model:                            OLS   Adj. R-squared (uncentered):              0.850\n",
       "Method:                 Least Squares   F-statistic:                          4.007e+05\n",
       "Date:                Thu, 01 Dec 2022   Prob (F-statistic):                        0.00\n",
       "Time:                        07:46:21   Log-Likelihood:                     -2.1790e+06\n",
       "No. Observations:              637976   AIC:                                  4.358e+06\n",
       "Df Residuals:                  637967   BIC:                                  4.358e+06\n",
       "Df Model:                           9                                                  \n",
       "Covariance Type:            nonrobust                                                  \n",
       "====================================================================================\n",
       "                       coef    std err          t      P>|t|      [0.025      0.975]\n",
       "------------------------------------------------------------------------------------\n",
       "cab_type             3.2655      0.019    169.035      0.000       3.228       3.303\n",
       "name                -1.3459      0.003   -506.975      0.000      -1.351      -1.341\n",
       "source               0.3956      0.003    157.876      0.000       0.391       0.401\n",
       "destination          0.4023      0.002    161.047      0.000       0.397       0.407\n",
       "distance             4.2244      0.007    576.044      0.000       4.210       4.239\n",
       "short_summary        0.7484      0.004    174.041      0.000       0.740       0.757\n",
       "windSpeed            0.0100      0.000     89.222      0.000       0.010       0.010\n",
       "visibility           0.0198      0.000    169.549      0.000       0.020       0.020\n",
       "surge_multiplier     5.8974      0.025    238.559      0.000       5.849       5.946\n",
       "==============================================================================\n",
       "Omnibus:                    29205.487   Durbin-Watson:                   1.850\n",
       "Prob(Omnibus):                  0.000   Jarque-Bera (JB):            34652.947\n",
       "Skew:                           0.512   Prob(JB):                         0.00\n",
       "Kurtosis:                       3.507   Cond. No.                         620.\n",
       "==============================================================================\n",
       "\n",
       "Notes:\n",
       "[1] R² is computed without centering (uncentered) since the model does not contain a constant.\n",
       "[2] Standard Errors assume that the covariance matrix of the errors is correctly specified.\n",
       "\"\"\""
      ]
     },
     "execution_count": 14,
     "metadata": {},
     "output_type": "execute_result"
    }
   ],
   "source": [
    "mod = sm.OLS(Y, X).fit()\n",
    "mod.summary()"
   ]
  },
  {
   "cell_type": "markdown",
   "id": "565a182c",
   "metadata": {},
   "source": [
    "pada output diperoleh:\n",
    "- nilai probabilitas F sebesar **0.00** dimana nilai tersebut **kurang dari alfa 5%** sehingga **model regresi tersebut cocok**. \n",
    "- nilai **p>|t|** pada semua atribut sebesar  **0.000** dimana nilai tersebut **kurang dari alfa** sehingga **koefisien regresi signifikan terhadap label**.\n",
    "- nilai R-squared sebesar **0.85** yang berarti bahwa feature mempengaruhi label sebesar **85%** dan **15%** sisanya dipengaruhi faktor lain."
   ]
  },
  {
   "cell_type": "markdown",
   "id": "e529871b",
   "metadata": {},
   "source": [
    "R squared atau R2 merupakan angka yang berkisar antara 0 sampai 1 yang mengindikasikan besarnya kombinasi variabel independen secara bersama – sama mempengaruhi nilai variabel dependen. Semakin mendekati angka satu, model yang dikeluarkan oleh regresi tersebut akan semakin baik."
   ]
  },
  {
   "cell_type": "code",
   "execution_count": 15,
   "id": "87a2cccc",
   "metadata": {},
   "outputs": [
    {
     "name": "stdout",
     "output_type": "stream",
     "text": [
      "Linear Regression train R Squared: 0.5145\n",
      "Linear Regression test R Squared: 0.5151\n"
     ]
    }
   ],
   "source": [
    "print('Linear Regression train R Squared: %.4f' % model.score(X_train_scaled, Y_train))\n",
    "print('Linear Regression test R Squared: %.4f' %model.score(X_test_scaled, Y_test))"
   ]
  },
  {
   "cell_type": "code",
   "execution_count": 16,
   "id": "991b9be7",
   "metadata": {},
   "outputs": [
    {
     "name": "stdout",
     "output_type": "stream",
     "text": [
      "Nilai Akurasi Model Linear Regression: 51.51%\n"
     ]
    }
   ],
   "source": [
    "skor = metrics.r2_score(Y_test, Y_predict) *100\n",
    "print('Nilai Akurasi Model Linear Regression: %1.2f%%' %skor)"
   ]
  },
  {
   "cell_type": "markdown",
   "id": "7de0f917",
   "metadata": {},
   "source": [
    "nilai akurasi sebesar 51% menunjukkan bahwa model kurang akurat untuk memprediksi, sehingga terindikasi bahwa model Linier Regression kurang tepat digunakan. sehingga perlu dilakukan transformasi ke model **Regresi Polynomial**"
   ]
  },
  {
   "cell_type": "markdown",
   "id": "ebe75337",
   "metadata": {},
   "source": [
    "### Transformasi ke bentuk Regresi Polynomial"
   ]
  },
  {
   "cell_type": "markdown",
   "id": "ecb59384",
   "metadata": {},
   "source": [
    "#### 1. Polynomial Regression ( d = 2 )"
   ]
  },
  {
   "cell_type": "code",
   "execution_count": 17,
   "id": "eeedb1c7",
   "metadata": {},
   "outputs": [],
   "source": [
    "poly_reg_2 = PolynomialFeatures(degree=2)\n",
    "X_poly_2 = poly_reg_2.fit_transform(X)\n",
    "\n",
    "#split data\n",
    "poly_2_X_train,poly_2_X_test,y_train,y_test = train_test_split(X_poly_2, Y,\n",
    "                                                               test_size=0.2,random_state=10)\n",
    "\n",
    "#standarisasi data\n",
    "scaled_poly_2_X_train = scaler.fit_transform(poly_2_X_train)\n",
    "scaled_poly_2_X_test = scaler.transform(poly_2_X_test)"
   ]
  },
  {
   "cell_type": "code",
   "execution_count": 18,
   "id": "02554aa4",
   "metadata": {},
   "outputs": [
    {
     "data": {
      "text/plain": [
       "LinearRegression()"
      ]
     },
     "execution_count": 18,
     "metadata": {},
     "output_type": "execute_result"
    }
   ],
   "source": [
    "# membuat dan melatih model polynomial regression d=2\n",
    "LR_2 = LinearRegression()\n",
    "LR_2.fit(scaled_poly_2_X_train,y_train)"
   ]
  },
  {
   "cell_type": "code",
   "execution_count": 19,
   "id": "a00d58d2",
   "metadata": {},
   "outputs": [],
   "source": [
    "# membuat prediksi model\n",
    "Y2_pred = LR_2.predict(scaled_poly_2_X_test)"
   ]
  },
  {
   "cell_type": "code",
   "execution_count": 20,
   "id": "4f58a201",
   "metadata": {},
   "outputs": [
    {
     "name": "stdout",
     "output_type": "stream",
     "text": [
      "Nilai Akurasi Model Linear Regression: 55.86%\n"
     ]
    }
   ],
   "source": [
    "# melihat skor akurasi R^2\n",
    "skor = metrics.r2_score(y_test, Y2_pred) *100\n",
    "print('Nilai Akurasi Model Linear Regression: %1.2f%%' %skor)"
   ]
  },
  {
   "cell_type": "markdown",
   "id": "ce4774bb",
   "metadata": {},
   "source": [
    "#### 2. Polynomial Regression ( d = 3 )"
   ]
  },
  {
   "cell_type": "code",
   "execution_count": 21,
   "id": "03745d6d",
   "metadata": {},
   "outputs": [],
   "source": [
    "poly_reg_3 = PolynomialFeatures(degree=3)\n",
    "X_poly_3 = poly_reg_3.fit_transform(X)\n",
    "\n",
    "#split data\n",
    "poly_3_X_train,poly_3_X_test,y_train,y_test = train_test_split(X_poly_3, Y,\n",
    "                                                               test_size=0.2,random_state=10)\n",
    "\n",
    "#standarisasi data\n",
    "scaled_poly_3_X_train = scaler.fit_transform(poly_3_X_train)\n",
    "scaled_poly_3_X_test = scaler.transform(poly_3_X_test)"
   ]
  },
  {
   "cell_type": "code",
   "execution_count": 22,
   "id": "d4bd46db",
   "metadata": {},
   "outputs": [
    {
     "data": {
      "text/plain": [
       "LinearRegression()"
      ]
     },
     "execution_count": 22,
     "metadata": {},
     "output_type": "execute_result"
    }
   ],
   "source": [
    "# membuat dan melatih model polynomial regression d=3\n",
    "LR_3 = LinearRegression()\n",
    "LR_3.fit(scaled_poly_3_X_train,y_train)"
   ]
  },
  {
   "cell_type": "code",
   "execution_count": 23,
   "id": "f44f26df",
   "metadata": {},
   "outputs": [],
   "source": [
    "# membuat prediksi model\n",
    "Y3_pred = LR_3.predict(scaled_poly_3_X_test)"
   ]
  },
  {
   "cell_type": "code",
   "execution_count": 24,
   "id": "8bbfc3f3",
   "metadata": {},
   "outputs": [
    {
     "name": "stdout",
     "output_type": "stream",
     "text": [
      "Nilai Akurasi Model Linear Regression: 71.46%\n"
     ]
    }
   ],
   "source": [
    "# melihat skor akurasi R^2\n",
    "skor = metrics.r2_score(y_test, Y3_pred) *100\n",
    "print('Nilai Akurasi Model Linear Regression: %1.2f%%' %skor)"
   ]
  },
  {
   "cell_type": "markdown",
   "id": "05c2d104",
   "metadata": {},
   "source": [
    "### Model Evaluation"
   ]
  },
  {
   "cell_type": "markdown",
   "id": "f97c98bf",
   "metadata": {},
   "source": [
    "#### Membandingkan semua model yang memungkinkan"
   ]
  },
  {
   "cell_type": "code",
   "execution_count": 38,
   "id": "9e3cf259",
   "metadata": {
    "scrolled": true
   },
   "outputs": [
    {
     "data": {
      "image/png": "[encoded data removed]",
      "text/plain": [
       "<Figure size 2000x800 with 3 Axes>"
      ]
     },
     "metadata": {
      "needs_background": "light"
     },
     "output_type": "display_data"
    }
   ],
   "source": [
    "fig,ax = plt.subplots(figsize=(10,4),dpi=200,nrows=3,ncols=1)\n",
    "\n",
    "barplot = sns.barplot(\n",
    "    x=[mean_absolute_error(Y_test,Y_predict),mean_absolute_error(y_test,Y2_pred),mean_absolute_error(y_test,Y3_pred)],\n",
    "    y=[\"Linear Regression\",\"Polynomial Regression $(d=2)$\",\"Polynomial Regression $(d=3)$\"],\n",
    "    palette=[\"#E06C78\",\"#5874DC\",\"#6AAB9C\"],\n",
    "    ax=ax[0]\n",
    ")\n",
    "for i in barplot.containers:\n",
    "    barplot.bar_label(i,fmt=\"%.6f\",padding=-60,color=\"white\",fontweight=\"bold\")\n",
    "ax[0].set_title(\"Mean Absolute Error (Lower is Better)\")\n",
    "\n",
    "barplot = sns.barplot(\n",
    "    x=[np.sqrt(mean_squared_error(Y_test,Y_predict)),np.sqrt(mean_squared_error(y_test,Y2_pred)),np.sqrt(mean_squared_error(y_test,Y3_pred))],\n",
    "    y=[\"Linear Regression\",\"Polynomial Regression $(d=2)$\",\"Polynomial Regression $(d=3)$\"],\n",
    "    palette=[\"#E06C78\",\"#5874DC\",\"#6AAB9C\"],\n",
    "    ax=ax[1]\n",
    ")\n",
    "for i in barplot.containers:\n",
    "    barplot.bar_label(i,fmt=\"%.6f\",padding=-60,color=\"white\",fontweight=\"bold\")\n",
    "ax[1].set_title(\"Root Mean Squared Error (Lower is Better)\")\n",
    "\n",
    "barplot = sns.barplot(\n",
    "    x=[r2_score(Y_test,Y_predict),r2_score(y_test,Y2_pred),r2_score(y_test,Y3_pred)],\n",
    "    y=[\"Linear Regression\",\"Polynomial Regression $(d=2)$\",\"Polynomial Regression $(d=3)$\"],\n",
    "    palette=[\"#E06C78\",\"#5874DC\",\"#6AAB9C\"],\n",
    "    ax=ax[2]\n",
    ")\n",
    "for i in barplot.containers:\n",
    "    barplot.bar_label(i,fmt=\"%.6f\",padding=-60,color=\"white\",fontweight=\"bold\")\n",
    "ax[2].set_title(\"$ R^{2} $ Score (Higher is Better)\")\n",
    "\n",
    "plt.tight_layout()\n",
    "plt.show()"
   ]
  },
  {
   "cell_type": "markdown",
   "id": "467482cc",
   "metadata": {},
   "source": [
    "berdasarkan plot yang dihasilkan dapat dibuktikan bahwa model Polynomial Regression dengan d = 3 merupakan model paling akurat berdasarkan perbandingan nilai MAE, RMSE, dan R Square. Indikasi model terbaik diperoleh dari nilai MAE dan RMSE paling kecil dan nilai R-square paling besar."
   ]
  },
  {
   "cell_type": "markdown",
   "id": "0ac77c3b",
   "metadata": {},
   "source": [
    "#### Menguji kecocokan model terhadap data training dan testing"
   ]
  },
  {
   "cell_type": "code",
   "execution_count": 40,
   "id": "fbd6da1a",
   "metadata": {},
   "outputs": [],
   "source": [
    "# membuat y prediksi menggunakna data training\n",
    "Y3_pred_train = LR_3.predict(scaled_poly_3_X_train)"
   ]
  },
  {
   "cell_type": "code",
   "execution_count": 42,
   "id": "1c4dd3f9",
   "metadata": {
    "scrolled": true
   },
   "outputs": [
    {
     "data": {
      "image/png": "[encoded data removed]",
      "text/plain": [
       "<Figure size 2000x800 with 3 Axes>"
      ]
     },
     "metadata": {
      "needs_background": "light"
     },
     "output_type": "display_data"
    }
   ],
   "source": [
    "fig,ax = plt.subplots(figsize=(10,4),dpi=200,nrows=3,ncols=1)\n",
    "\n",
    "barplot = sns.barplot(\n",
    "    x=[mean_absolute_error(y_train,Y3_pred_train),mean_absolute_error(y_test,Y3_pred)],\n",
    "    y=[\"Data Training\",\"Data Testing\"],\n",
    "    palette=[\"#E06C78\",\"#5874DC\"],\n",
    "    ax=ax[0]\n",
    ")\n",
    "for i in barplot.containers:\n",
    "    barplot.bar_label(i,fmt=\"%.6f\",padding=-60,color=\"white\",fontweight=\"bold\")\n",
    "ax[0].set_title(\"Mean Absolute Error (Lower is Better)\")\n",
    "\n",
    "barplot = sns.barplot(\n",
    "    x=[np.sqrt(mean_squared_error(y_train, Y3_pred_train)),np.sqrt(mean_squared_error(y_test,Y3_pred))],\n",
    "    y=[\"Data Training\",\"Data Testing\"],\n",
    "    palette=[\"#E06C78\",\"#5874DC\"],\n",
    "    ax=ax[1]\n",
    ")\n",
    "for i in barplot.containers:\n",
    "    barplot.bar_label(i,fmt=\"%.6f\",padding=-60,color=\"white\",fontweight=\"bold\")\n",
    "ax[1].set_title(\"Root Mean Squared Error (Lower is Better)\")\n",
    "\n",
    "barplot = sns.barplot(\n",
    "    x=[r2_score(y_train,Y3_pred_train),r2_score(y_test,Y3_pred)],\n",
    "    y=[\"Data Training\",\"Data Testing\"],\n",
    "    palette=[\"#E06C78\",\"#5874DC\"],\n",
    "    ax=ax[2]\n",
    ")\n",
    "for i in barplot.containers:\n",
    "    barplot.bar_label(i,fmt=\"%.6f\",padding=-60,color=\"white\",fontweight=\"bold\")\n",
    "ax[2].set_title(\"$ R^{2} $ Score (Higher is Better)\")\n",
    "\n",
    "plt.tight_layout()\n",
    "plt.show()"
   ]
  },
  {
   "cell_type": "markdown",
   "id": "358a6960",
   "metadata": {},
   "source": [
    "Berdasarkan plot yang dihasilkan terlihat bahwa nilai MAE, RMSE, dan R^2 pada data training dan data testing berdasarkan model **Polynomial Regressi d = 3** memiliki nilai yang tidak jauh berbeda sehingga bisa disimpulkan bahwa model yang dihasilkan mengalami **Good Fitting**.\n"
   ]
  },
  {
   "cell_type": "markdown",
   "id": "273f441c",
   "metadata": {},
   "source": [
    "### Scatter plot hasil model polynomial regresi dengan d = 3"
   ]
  },
  {
   "cell_type": "code",
   "execution_count": 23,
   "id": "9beced3f",
   "metadata": {},
   "outputs": [
    {
     "data": {
      "text/plain": [
       "Text(0, 0.5, 'Predicted Y')"
      ]
     },
     "execution_count": 23,
     "metadata": {},
     "output_type": "execute_result"
    },
    {
     "data": {
      "image/png": "[encoded data removed]",
      "text/plain": [
       "<Figure size 432x288 with 1 Axes>"
      ]
     },
     "metadata": {
      "needs_background": "light"
     },
     "output_type": "display_data"
    }
   ],
   "source": [
    "sns.regplot(y_test,Y3_pred,\n",
    "            scatter_kws={'alpha':0.5}, \n",
    "            fit_reg=True)\n",
    "plt.title(\"scatter plot price prediction\")\n",
    "plt.xlabel('Y test')\n",
    "plt.ylabel('Predicted Y')"
   ]
  },
  {
   "cell_type": "markdown",
   "id": "704c2c5b",
   "metadata": {},
   "source": [
    "pada plot yang dihasilkan terlihat bahwa plot-plot data mengikuti garis linier."
   ]
  },
  {
   "cell_type": "markdown",
   "id": "d8282943",
   "metadata": {},
   "source": [
    "## Model Inference"
   ]
  },
  {
   "cell_type": "code",
   "execution_count": 33,
   "id": "e50c459c",
   "metadata": {},
   "outputs": [
    {
     "data": {
      "text/plain": [
       "array([ 6.01277185e+09,  1.69224371e+10, -3.30417143e+12, ...,\n",
       "       -1.45839161e+12,  5.78841181e+10, -1.99394920e+10])"
      ]
     },
     "execution_count": 33,
     "metadata": {},
     "output_type": "execute_result"
    }
   ],
   "source": [
    "# mentransform X_val dengan polynomial regression d = 3\n",
    "Xval_poly3 = poly_reg_3.transform(X_val_scaled)\n",
    "\n",
    "#fit X_val kedalam model akhir\n",
    "final_model = LinearRegression().fit(scaled_poly_3_X_train,y_train)\n",
    "predict = final_model.predict(Xval_poly3)\n",
    "predict"
   ]
  },
  {
   "cell_type": "code",
   "execution_count": 34,
   "id": "84527cc7",
   "metadata": {},
   "outputs": [
    {
     "name": "stdout",
     "output_type": "stream",
     "text": [
      "Nilai Akurasi Model Linear Regression: 71.46%\n"
     ]
    }
   ],
   "source": [
    "# skor akurasi model inference\n",
    "skor_inference = metrics.r2_score(Y_val, predict) *100\n",
    "print('Nilai Akurasi Model Linear Regression: %1.2f%%' %skor)"
   ]
  },
  {
   "cell_type": "markdown",
   "id": "77ee5041",
   "metadata": {},
   "source": [
    "## Save Model in Pickle File"
   ]
  },
  {
   "cell_type": "code",
   "execution_count": 43,
   "id": "1076517c",
   "metadata": {},
   "outputs": [],
   "source": [
    "#simpan model kedalam file dengan pickle\n",
    "pickle.dump(model, open('./final_model.pkl', 'wb'))"
   ]
  },
  {
   "cell_type": "markdown",
   "id": "4fc781d1",
   "metadata": {},
   "source": [
    "## Kesimpulan\n",
    "Berdasarkan hasil dari proses analisis sebelumnya, dapat diambil kesimpulan:\n",
    "1. pada dataset yang terdiri dari 57 atribut, diambil 9 atribut yang paling berpengaruh dalam memprediksi harga layanan transportasi online. atribut tersebut terdiri dari **cab_type, name, source, destination, distance, short_summary, windSpeed, visibility, dan surge_multiplier**.\n",
    "2. nilai akurasi sebesar 51% menunjukkan bahwa model kurang akurat untuk memprediksi, sehingga terindikasi bahwa model Linier Regression kurang tepat digunakan. sehingga perlu dilakukan transformasi ke model **Regresi Polynomial**\n",
    "3. model terbaik di peroleh dari model polynomial regresi dengan d = 3 dengan nilai akurasi sebesar 71%, MAE 3.6, dan RMSE 4.98\n",
    "4. Setelah dilakukan pengujian nilai R-squared, MAE, dan RMSE pada data training dan data testing dapat disimpulkan bahwa model yang dihasilkan mengalami **good fitting** karena nilai nya tidak jauh berbeda"
   ]
  }
 ],
 "metadata": {
  "kernelspec": {
   "display_name": "Python 3 (ipykernel)",
   "language": "python",
   "name": "python3"
  },
  "language_info": {
   "codemirror_mode": {
    "name": "ipython",
    "version": 3
   },
   "file_extension": ".py",
   "mimetype": "text/x-python",
   "name": "python",
   "nbconvert_exporter": "python",
   "pygments_lexer": "ipython3",
   "version": "3.9.12"
  }
 },
 "nbformat": 4,
 "nbformat_minor": 5
}
